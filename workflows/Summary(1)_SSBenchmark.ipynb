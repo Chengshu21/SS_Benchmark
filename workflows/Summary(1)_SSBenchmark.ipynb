{
 "cells": [
  {
   "cell_type": "markdown",
   "metadata": {},
   "source": [
    "# 1. Input data\n",
    "\n",
    "## 1.1 Download data files"
   ]
  },
  {
   "cell_type": "markdown",
   "metadata": {},
   "source": [
    "GEO Dataset series number and related disease:\n",
    "* GSE10245 :  Non-small cells lung cancer (NSCLC)\n",
    "* GSE11906 : COPD\n",
    "* GSE18842 : Non-small cells lung cancer (NSCLC)\n",
    "* GSE35571 : Asthma\n",
    "* GSE42057 : COPD\n",
    "* GSE50834 : Tuberculosis\n",
    "* GSE52819 : Tuberculosis\n",
    "* GSE67472 ： Asthma"
   ]
  },
  {
   "cell_type": "code",
   "execution_count": 46,
   "metadata": {},
   "outputs": [],
   "source": [
    "### library related package\n",
    "library(R.utils)"
   ]
  },
  {
   "cell_type": "code",
   "execution_count": 24,
   "metadata": {},
   "outputs": [],
   "source": [
    "### GSE10245\n",
    "download.file(\"ftp://ftp.ncbi.nlm.nih.gov/geo/series/GSE10nnn/GSE10245/matrix/GSE10245_series_matrix.txt.gz\", \n",
    "              destfile = \"~/GSE10245_series_matrix.txt.gz\") ## you could change the destfile as you want\n",
    "\n",
    "download.file(\"ftp://ftp.ncbi.nlm.nih.gov/geo/series/GSE10nnn/GSE10245/soft/GSE10245_family.soft.gz\", \n",
    "              destfile = \"~/GSE10245_family.soft.gz\") ## you could change the destfile as you want\n",
    "\n",
    "### gunzip .gz file\n",
    "gunzip(\"~/GSE10245_series_matrix.txt.gz\", remove = F)\n",
    "gunzip(\"~/GSE10245_family.soft.gz\",remove = F)"
   ]
  },
  {
   "cell_type": "code",
   "execution_count": 25,
   "metadata": {},
   "outputs": [],
   "source": [
    "### GSE11906\n",
    "download.file(\"ftp://ftp.ncbi.nlm.nih.gov/geo/series/GSE11nnn/GSE11906/matrix/GSE11906_series_matrix.txt.gz\", \n",
    "              destfile = \"~/GSE11906_series_matrix.txt.gz\")\n",
    "\n",
    "download.file(\"ftp://ftp.ncbi.nlm.nih.gov/geo/series/GSE11nnn/GSE11906/soft/GSE11906_family.soft.gz\", \n",
    "              destfile = \"~/GSE11906_family.soft.gz\")\n",
    "### gunzip .gz file\n",
    "gunzip(\"~/GSE11906_series_matrix.txt.gz\",remove = F)\n",
    "gunzip(\"~/GSE11906_family.soft.gz\",remove = F)"
   ]
  },
  {
   "cell_type": "code",
   "execution_count": 26,
   "metadata": {},
   "outputs": [],
   "source": [
    "### GSE18842\n",
    "download.file(\"ftp://ftp.ncbi.nlm.nih.gov/geo/series/GSE18nnn/GSE18842/matrix/GSE18842_series_matrix.txt.gz\", \n",
    "              destfile = \"~/GSE18842_series_matrix.txt.gz\")\n",
    "download.file(\"ftp://ftp.ncbi.nlm.nih.gov/geo/series/GSE18nnn/GSE18842/soft/GSE18842_family.soft.gz\", \n",
    "              destfile = \"~/GSE18842_family.soft.gz\")\n",
    "\n",
    "### gunzip .gz file\n",
    "gunzip(\"~/GSE18842_family.soft.gz\", remove = F)\n",
    "gunzip(\"~/GSE18842_series_matrix.txt.gz\", remove = F)"
   ]
  },
  {
   "cell_type": "code",
   "execution_count": 29,
   "metadata": {},
   "outputs": [],
   "source": [
    "### GSE35571\n",
    "download.file(\"ftp://ftp.ncbi.nlm.nih.gov/geo/series/GSE35nnn/GSE35571/matrix/GSE35571_series_matrix.txt.gz\", \n",
    "              destfile = \"~/GSE35571_series_matrix.txt.gz\")\n",
    "download.file(\"ftp://ftp.ncbi.nlm.nih.gov/geo/series/GSE35nnn/GSE35571/soft/GSE35571_family.soft.gz\", \n",
    "              destfile = \"~/GSE35571_family.soft.gz\")\n",
    "\n",
    "### gunzip .gz file\n",
    "gunzip(\"~/GSE35571_family.soft.gz\", remove = F)\n",
    "gunzip(\"~/GSE35571_series_matrix.txt.gz\", remove = F)"
   ]
  },
  {
   "cell_type": "code",
   "execution_count": 28,
   "metadata": {},
   "outputs": [],
   "source": [
    "### GSE42057\n",
    "download.file(\"ftp://ftp.ncbi.nlm.nih.gov/geo/series/GSE42nnn/GSE42057/matrix/GSE42057_series_matrix.txt.gz\", \n",
    "              destfile = \"~/GSE42057_series_matrix.txt.gz\")\n",
    "download.file(\"ftp://ftp.ncbi.nlm.nih.gov/geo/series/GSE42nnn/GSE42057/soft/GSE42057_family.soft.gz\", \n",
    "              destfile = \"~/GSE42057_family.soft.gz\")\n",
    "\n",
    "### gunzip .gz file\n",
    "gunzip(\"~/GSE42057_series_matrix.txt.gz\", remove = F)\n",
    "gunzip(\"~/GSE42057_family.soft.gz\", remove = F)"
   ]
  },
  {
   "cell_type": "code",
   "execution_count": 30,
   "metadata": {},
   "outputs": [],
   "source": [
    "### GSE50834\n",
    "download.file(\"ftp://ftp.ncbi.nlm.nih.gov/geo/series/GSE50nnn/GSE50834/matrix/GSE50834_series_matrix.txt.gz\", \n",
    "              destfile = \"~/GSE50834_series_matrix.txt.gz\")\n",
    "download.file(\"ftp://ftp.ncbi.nlm.nih.gov/geo/series/GSE50nnn/GSE50834/soft/GSE50834_family.soft.gz\", \n",
    "              destfile = \"~/GSE50834_family.soft.gz\")\n",
    "\n",
    "### gunzip .gz file\n",
    "gunzip(\"~/GSE50834_family.soft.gz\", remove = F)\n",
    "gunzip(\"~/GSE50834_series_matrix.txt.gz\", remove = F)"
   ]
  },
  {
   "cell_type": "code",
   "execution_count": 31,
   "metadata": {},
   "outputs": [],
   "source": [
    "### GSE52819\n",
    "download.file(\"ftp://ftp.ncbi.nlm.nih.gov/geo/series/GSE52nnn/GSE52819/matrix/GSE52819_series_matrix.txt.gz\", \n",
    "              destfile = \"~/GSE52819_series_matrix.txt.gz\")\n",
    "download.file(\"ftp://ftp.ncbi.nlm.nih.gov/geo/series/GSE52nnn/GSE52819/soft/GSE52819_family.soft.gz\", \n",
    "              destfile = \"~/GSE52819_family.soft.gz\")\n",
    "\n",
    "### gunzip .gz file\n",
    "gunzip(\"~/GSE52819_family.soft.gz\", remove = F)\n",
    "gunzip(\"~/GSE52819_series_matrix.txt.gz\", remove = F)"
   ]
  },
  {
   "cell_type": "code",
   "execution_count": 32,
   "metadata": {},
   "outputs": [],
   "source": [
    "### GSE67472\n",
    "download.file(\"ftp://ftp.ncbi.nlm.nih.gov/geo/series/GSE67nnn/GSE67472/matrix/GSE67472_series_matrix.txt.gz\", \n",
    "              destfile = \"~/GSE67472_series_matrix.txt.gz\")\n",
    "download.file(\"ftp://ftp.ncbi.nlm.nih.gov/geo/series/GSE67nnn/GSE67472/soft/GSE67472_family.soft.gz\", \n",
    "              destfile = \"~/GSE67472_family.soft.gz\")\n",
    "\n",
    "### gunzip .gz file\n",
    "gunzip(\"~/GSE67472_family.soft.gz\", remove = F)\n",
    "gunzip(\"~/GSE67472_series_matrix.txt.gz\", remove = F)"
   ]
  },
  {
   "cell_type": "markdown",
   "metadata": {},
   "source": [
    "## 1.2 Read files into R"
   ]
  },
  {
   "cell_type": "code",
   "execution_count": null,
   "metadata": {},
   "outputs": [],
   "source": [
    "# Get related data to be used in other parts of project\n",
    "### install and library other packages\n",
    "if (!requireNamespace(\"BiocManager\", quietly = TRUE))\n",
    "  install.packages(\"BiocManager\")\n",
    "BiocManager::install(\"GSVAdata\")\n",
    "BiocManager::install(\"hgu133plus2.db\")\n",
    "BiocManager::install(\"hugene10sttranscriptcluster.db\")\n",
    "BiocManager::install(\"illuminaHumanv4.db\")\n",
    "\n",
    "library(GSVAdata)\n",
    "library(hgu133plus2.db)\n",
    "library(hugene10sttranscriptcluster.db)\n",
    "library(illuminaHumanv4.db)"
   ]
  },
  {
   "cell_type": "code",
   "execution_count": 37,
   "metadata": {},
   "outputs": [],
   "source": [
    "#####get pdata\n",
    "source(\"get_pdata.R\")"
   ]
  },
  {
   "cell_type": "markdown",
   "metadata": {},
   "source": [
    "Those \"pdata\" file are made manually from the GEO website."
   ]
  },
  {
   "cell_type": "code",
   "execution_count": 38,
   "metadata": {},
   "outputs": [],
   "source": [
    "GSE10245_pdata = get_pdata(\"~/GSE10245_pdata.csv\")\n",
    "GSE11906_pdata = get_pdata(\"~/GSE11906_pdata.csv\")\n",
    "GSE18842_pdata = get_pdata(\"~/GSE18842_pdata.csv\")\n",
    "GSE35571_pdata = get_pdata(\"~/GSE35571_pdata.csv\")\n",
    "GSE42057_pdata = get_pdata(\"~/GSE42057_pdata.csv\")\n",
    "GSE50834_pdata = get_pdata(\"~/GSE50834_pdata.csv\")\n",
    "GSE52819_pdata = get_pdata(\"~/GSE52819_pdata.csv\")\n",
    "GSE67472_pdata = get_pdata(\"~/GSE67472_pdata.csv\")"
   ]
  },
  {
   "cell_type": "code",
   "execution_count": 35,
   "metadata": {},
   "outputs": [],
   "source": [
    "#### Expression data with filtered entezID\n",
    "##### get set_entrezID with matrix data\n",
    "source(get_setentrez_data.R\")"
   ]
  },
  {
   "cell_type": "code",
   "execution_count": 40,
   "metadata": {},
   "outputs": [],
   "source": [
    "## get matrix data with filtered entrezID\n",
    "GSE10245_setentrez = get_setentrez_data(\"~/GSE10245_series_matrix.txt\", \n",
    "                                        \"hgu133plus2.db\", GSE10245_pdata)\n",
    "GSE11906_setentrez = get_setentrez_data(\"~/GSE11906_series_matrix.txt\", \n",
    "                                        \"hgu133plus2.db\", GSE11906_pdata)\n",
    "GSE18842_setentrez = get_setentrez_data(\"~/GSE18842_series_matrix.txt\", \n",
    "                                        \"hgu133plus2.db\", GSE18842_pdata)\n",
    "GSE35571_setentrez = get_setentrez_data(\"~/GSE35571_series_matrix.txt\",\n",
    "                                        \"hgu133plus2.db\", GSE35571_pdata)\n",
    "GSE42057_setentrez = get_setentrez_data(\"~/GSE42057_series_matrix.txt\", \n",
    "                                        \"hgu133plus2.db\", GSE42057_pdata)\n",
    "GSE50834_setentrez = get_setentrez_data(\"~/GSE50834_series_matrix.txt\", \n",
    "                                        \"illuminaHumanv4.db\", GSE50834_pdata)\n",
    "GSE52819_setentrez = get_setentrez_data(\"~/GSE52819_series_matrix.txt\", \n",
    "                                        \"hugene10sttranscriptcluster.db\", GSE52819_pdata)\n",
    "GSE67472_setentrez = get_setentrez_data(\"~/GSE67472_series_matrix.txt\",\n",
    "                                        \"hgu133plus2.db\", GSE67472_pdata)"
   ]
  },
  {
   "cell_type": "code",
   "execution_count": 60,
   "metadata": {},
   "outputs": [],
   "source": [
    "####function to get new data to be used in\"pathifier\"\n",
    "source(\"get_pathifier_input.R\")"
   ]
  },
  {
   "cell_type": "markdown",
   "metadata": {},
   "source": [
    "### expression data used in \"pathifier\" package"
   ]
  },
  {
   "cell_type": "code",
   "execution_count": 43,
   "metadata": {},
   "outputs": [],
   "source": [
    "#########################################\n",
    "##### data used in \"pathifier\"\n",
    "pathifier_input_GSE10245 = get_pathifier_input(GSE10245_pdata, GSE10245_setentrez)\n",
    "pathifier_input_GSE11906 = get_pathifier_input(GSE11906_pdata, GSE11906_setentrez)\n",
    "pathifier_input_GSE18842 = get_pathifier_input(GSE18842_pdata, GSE18842_setentrez)\n",
    "pathifier_input_GSE35571 = get_pathifier_input(GSE35571_pdata, GSE35571_setentrez)\n",
    "pathifier_input_GSE42057 = get_pathifier_input(GSE42057_pdata, GSE42057_setentrez)\n",
    "pathifier_input_GSE50834 = get_pathifier_input(GSE50834_pdata, GSE50834_setentrez)\n",
    "pathifier_input_GSE52819 = get_pathifier_input(GSE52819_pdata, GSE52819_setentrez)\n",
    "pathifier_input_GSE67472 = get_pathifier_input(GSE67472_pdata, GSE67472_setentrez)"
   ]
  },
  {
   "cell_type": "markdown",
   "metadata": {},
   "source": [
    "### Assign each expression data with their related diseases"
   ]
  },
  {
   "cell_type": "code",
   "execution_count": 44,
   "metadata": {},
   "outputs": [],
   "source": [
    "###Disease with their related expression data\n",
    "H00014_Non_small_cell_lung_cancer = list(\"GSE10245_setentrez\" = GSE10245_setentrez, \n",
    "                                         \"GSE18842_setentrez\" = GSE18842_setentrez)\n",
    "H00079_Asthma = list(\"GSE35571_setentrez\" = GSE35571_setentrez，\n",
    "                     \"GSE67472_setentrez\" = GSE67472_setentrez)\n",
    "H00342_Tuberculosis = list(\"GSE52819_setentrez\" = GSE52819_setentrez, \n",
    "                           \"GSE50834_setentrez\" = GSE50834_setentrez)\n",
    "H01714_COPD = list(\"GSE11906_setentrez\" = GSE11906_setentrez,\n",
    "                   \"GSE42057_setentrez\" = GSE42057_setentrez)\n",
    "Disease_setentrez_data = list(\"Non_small_cell_lung_cancer\" = H00014_Non_small_cell_lung_cancer,\n",
    "                              \"Asthma\" = H00079_Asthma,\n",
    "                              \"Tuberculosis\" = H00342_Tuberculosis, \n",
    "                              \"COPD\" = H01714_COPD) "
   ]
  },
  {
   "cell_type": "markdown",
   "metadata": {},
   "source": [
    "### Target geneset list"
   ]
  },
  {
   "cell_type": "code",
   "execution_count": 45,
   "metadata": {},
   "outputs": [
    {
     "name": "stdout",
     "output_type": "stream",
     "text": [
      "List of 8\n",
      " $ KEGG_NON_SMALL_LUNG_CANCER_H00014     : chr \"KEGG_NON_SMALL_LUNG_CANCER\"\n",
      " $ KEGG_MAPK_SIGNALING_PATHWAY_H00014    : chr \"KEGG_MAPK_SIGNALING_PATHWAY\"\n",
      " $ KEGG_ERBB_SIGNALING_PATHWAY_H00014    : chr \"KEGG_ERBB_SIGNALING_PATHWAY\"\n",
      " $ KEGG_RAS_SIGNALING_PATHWAY_H00014     : chr \"KEGG_RAS_SIGNALING_PATHWAY\"\n",
      " $ KEGG_CALCIUM_SIGNALING_PATHWAY_H00014 : chr \"KEGG_CALCIUM_SIGNALING_PATHWAY\"\n",
      " $ KEGG_CELL_CYCLE_H00014                : chr \"KEGG_CELL_CYCLE\"\n",
      " $ KEGG_P53_SIGNALING_PATHWAY_H00014     : chr \"KEGG_P53_SIGNALING_PATHWAY\"\n",
      " $ KEGG_PI3K_AKT_SIGNALING_PATHWAY_H00014: chr \"KEGG_PI3K_AKT_SIGNALING_PATHWAY\"\n"
     ]
    }
   ],
   "source": [
    "# Generate a list that contains the names of the genesets used\n",
    "H00014 = list(\"KEGG_NON_SMALL_LUNG_CANCER_H00014\" = \"KEGG_NON_SMALL_LUNG_CANCER\",\n",
    "              \"KEGG_MAPK_SIGNALING_PATHWAY_H00014\" = \"KEGG_MAPK_SIGNALING_PATHWAY\",\n",
    "              \"KEGG_ERBB_SIGNALING_PATHWAY_H00014\" = \"KEGG_ERBB_SIGNALING_PATHWAY\",\n",
    "              \"KEGG_RAS_SIGNALING_PATHWAY_H00014\" = \"KEGG_RAS_SIGNALING_PATHWAY\",\n",
    "              \"KEGG_CALCIUM_SIGNALING_PATHWAY_H00014\" = \"KEGG_CALCIUM_SIGNALING_PATHWAY\",\n",
    "              \"KEGG_CELL_CYCLE_H00014\" = \"KEGG_CELL_CYCLE\",\n",
    "              \"KEGG_P53_SIGNALING_PATHWAY_H00014\" = \"KEGG_P53_SIGNALING_PATHWAY\",\n",
    "              \"KEGG_PI3K_AKT_SIGNALING_PATHWAY_H00014\" = \"KEGG_PI3K_AKT_SIGNALING_PATHWAY\")\n",
    "H00079 = list(\"KEGG_ASTHMA_H00079\" = \"KEGG_ASTHMA\",\n",
    "              \"KEGG_FC_EPSILON_RISIGNALING_PATHWAY_H00079\" = \"KEGG_FC_EPSILON_RISIGNALING_PATHWAY\",\n",
    "              \"KEGG_B_CELL_RECEPTOR_SIGNALING_PATHWAY_H00079\" = \"KEGG_B_CELL_RECEPTOR_SIGNALING_PATHWAY\",\n",
    "              \"KEGG_CELL_ADHESION_MOLECULES(CAMs)_H00079\" = \"KEGG_CELL_ADHESION_MOLECULES(CAMs)\" ,\n",
    "              \"KEGG_T_CELL_RECEPTOR_SIGNALING_PATHWAY_H00079\" = \"KEGG_T_CELL_RECEPTOR_SIGNALING_PATHWAY\",\n",
    "              \"KEGG_ANTIGEN_PROCESSING_AND_PRESENTATION_H00079\" = \"KEGG_ANTIGEN_PROCESSING_AND_PRESENTATION\",\n",
    "              \"KEGG_CYTOKINE_CYTOKINE_RECEPTOR_INTERACTION_H00079\" = \"KEGG_CYTOKINE_CYTOKINE_RECEPTOR_INTERACTION\",\n",
    "              \"KEGG_JAK_STAT_SIGNALING_PATHWAY_H00079\" = \"KEGG_JAK_STAT_SIGNALING_PATHWAY\")\n",
    "H00342 = list(\"KEGG_TUBERCULOSIS_H00342\" = \"KEGG_TUBERCULOSIS\",\n",
    "              \"KEGG_APOPTOSIS_H00342\" = \"KEGG_APOPTOSIS\",\n",
    "              \"KEGG_ANTIGEN_PROCESSING_AND_PRESENTATION_H00342\" = \"KEGG_ANTIGEN_PROCESSING_AND_PRESENTATION\",\n",
    "              \"KEGG_JAK_STAT_SIGNALING_PATHWAY_H00342\" = \"KEGG_JAK_STAT_SIGNALING_PATHWAY\",\n",
    "              \"KEGG_MAPK_SIGNALING_PATHWAY_H00342\" = \"KEGG_MAPK_SIGNALING_PATHWAY\",\n",
    "              \"KEGG_TOLL_LIKERECEPTOR_SIGNALING_PATHWAY_H00342\" = \"KEGG_TOLL_LIKERECEPTOR_SIGNALING_PATHWAY\",\n",
    "              \"KEGG_NOD_LIKE_RECEPTOR_SIGNALING_PATHWAY_H00342\" = \"KEGG_NOD_LIKE_RECEPTOR_SIGNALING_PATHWAY\")\n",
    "H01714 = list(\"KEGG_CITRATE_CYCLE_TCA_CYCLE_H01714\" = \"KEGG_CITRATE_CYCLE_TCA_CYCLE\", \n",
    "              \"KEGG_HEDGEHOG_SIGNALING_PATHWAY_H01714\" = \"KEGG_HEDGEHOG_SIGNALING_PATHWAY\",\n",
    "              \"KEGG_WNT_SIGNALING_PATHWAY_H01714 \" = \"KEGG_WNT_SIGNALING_PATHWAY\",\n",
    "              \"KEGG_PI3K_AKT_SIGNALING_PATHWAY_H01714\" = \"KEGG_PI3K_AKT_SIGNALING_PATHWAY\", \n",
    "              \"KEGG_B_CELL_RECEPTOR_SIGNALING_PATHWAY_H01714\" = \"KEGG_B_CELL_RECEPTOR_SIGNALING_PATHWAY\",\n",
    "              \"KEGG_TGF_BETA_SIGNALING_PATHWAY_H01714\" = \"KEGG_TGF_BETA_SIGNALING_PATHWAY\", \n",
    "              \"KEGG_ECM_RECEPTOR_INTERACTION_H01714\" = \"KEGG_ECM_RECEPTOR_INTERACTION \",\n",
    "              \"KEGG_FOCAL_ADHESION_H01714\" = \"KEGG_FOCAL_ADHESION \",\n",
    "              \"KEGG_VEGF_SIGNALING_PATHWAY_H01714\" = \"KEGG_VEGF_SIGNALING_PATHWAY\",\n",
    "              \"KEGG_SPHINGOLIPID_METABOLISM_H01714 \" = \"KEGG_SPHINGOLIPID_METABOLISM \",\n",
    "              \"KEGG_NOTCH_SIGNALING_PATHWAY_H01714\" = \"KEGG_NOTCH_SIGNALING_PATHWAY\",\n",
    "              \"KEGG_ERBB_SIGNALING_PATHWAY_H01714\" = \"KEGG_ERBB_SIGNALING_PATHWAY\",\n",
    "              \"KEGG_ABC_TRANSPORTERS_H01714\" = \"KEGG_ABC_TRANSPORTERS\", \n",
    "              \"KEGG_CELL_ADHESION_MOLECULES_CAMS_H01714\" = \"KEGG_CELL_ADHESION_MOLECULES_CAMS\",\n",
    "              \"KEGG_CELL_CYCLE_H01714\" = \"KEGG_CELL_CYCLE \",\n",
    "              \"KEGG_OOCYTE_MEIOSIS_H01714 \" = \"KEGG_OOCYTE_MEIOSIS \",\n",
    "              \"KEGG_APOPTOSIS_H01714\"= \"KEGG_APOPTOSIS\", \n",
    "              \"KEGG_P53_SIGNALING_PATHWAY_H01714\" = \"KEGG_P53_SIGNALING_PATHWAY\",\n",
    "              \"KEGG_HOMOLOGOUS_RECOMBINATION_H01714\"= \"KEGG_HOMOLOGOUS_RECOMBINATION\",\n",
    "              \"KEGG_BASE_EXCISION_REPAIR_H01714\" = \"KEGG_BASE_EXCISION_REPAIR\",\n",
    "              \"KEGG_NUCLEOTIDE_EXCISION_REPAIR_H01714\" = \"KEGG_NUCLEOTIDE_EXCISION_REPAIR\",\n",
    "              \" KEGG_MISMATCH_REPAIR_H01714 \" =\" KEGG_MISMATCH_REPAIR\", \n",
    "              \"KEGG_NON_HOMOLOGOUS_END_JOINING_H01714\"  = \"KEGG_NON_HOMOLOGOUS_END_JOINING\", \n",
    "              \"KEGG_ENDOCYTOSIS_H01714\" = \"KEGG_ENDOCYTOSIS\",\n",
    "              \"KEGG_LYSOSOME_H01714\" = \"KEGG_LYSOSOME\",\n",
    "              \"KEGG_PEROXISOME_H01714 \"=\"KEGG_PEROXISOME \",\n",
    "              \"KEGG_SNARE_INTERACTIONS_IN_VESICULAR_TRANSPORT_H01714\" = \"KEGG_SNARE_INTERACTIONS_IN_VESICULAR_TRANSPORT\",\n",
    "              \"KEGG_VASCULAR_SMOOTH_MUSCLE_CONTRACTION_H01714\" = \"KEGG_VASCULAR_SMOOTH_MUSCLE_CONTRACTION\", \n",
    "              \"KEGG_REGULATION_OF_ACTIN_CYTOSKELETON_H01714 \" = \"KEGG_REGULATION_OF_ACTIN_CYTOSKELETON \",\n",
    "              \"KEGG_OXIDATIVE_PHOSPHORYLATION_H01714\" = \"KEGG_OXIDATIVE_PHOSPHORYLATION\" ,\n",
    "              \"KEGG_UBIQUITIN_MEDIATED_PROTEOLYSIS_H01714\"= \"KEGG_UBIQUITIN_MEDIATED_PROTEOLYSIS\",\n",
    "              \"KEGG_CYTOKINE_CYTOKINE_RECEPTOR_INTERACTION_H01714\" = \"KEGG_CYTOKINE_CYTOKINE_RECEPTOR_INTERACTION\",\n",
    "              \"KEGG_ADIPOCYTOKINE_SIGNALING_PATHWAY_H01714\" = \"KEGG_ADIPOCYTOKINE_SIGNALING_PATHWAY\",\n",
    "              \"KEGG_MAPK_SIGNALING_PATHWAY_H01714\" = \"KEGG_MAPK_SIGNALING_PATHWAY\",\n",
    "              \"KEGG_TUBERCULOSIS_H01714\" = \"KEGG_TUBERCULOSIS\",\n",
    "              \"KEGG_PENTOSE_PHOSPHATE_PATHWAY_H01714\" = \"KEGG_PENTOSE_PHOSPHATE_PATHWAY\",\n",
    "              \"KEGG_HEMATOPOIETIC_CELL_LINEAGE_H01714\"  = \"KEGG_HEMATOPOIETIC_CELL_LINEAGE\",\n",
    "              \"KEGG_COMPLEMENT_AND_COAGULATION_CASCADES_H01714 \" = \"KEGG_COMPLEMENT_AND_COAGULATION_CASCADES \",\n",
    "              \"KEGG_TOLL_LIKE_RECEPTOR_SIGNALING_PATHWAY_H01714\" = \"KEGG_TOLL_LIKE_RECEPTOR_SIGNALING_PATHWAY\",\n",
    "              \"KEGG_NOD_LIKE_RECEPTOR_SIGNALING_PATHWAY_H01714\" = \"KEGG_NOD_LIKE_RECEPTOR_SIGNALING_PATHWAY\" ,\n",
    "              \"KEGG_RIG_I_LIKE_RECEPTOR_SIGNALING_PATHWAY_H01714\" = \"KEGG_RIG_I_LIKE_RECEPTOR_SIGNALING_PATHWAY\",\n",
    "              \"KEGG_CYTOSOLIC_DNA_SENSING_PATHWAY_H01714\"= \"KEGG_CYTOSOLIC_DNA_SENSING_PATHWAY\",\n",
    "              \"KEGG_NATURAL_KILLER_CELL_MEDIATED_CYTOTOXICITY_H01714\" = \"KEGG_NATURAL_KILLER_CELL_MEDIATED_CYTOTOXICITY\",\n",
    "              \"KEGG_ANTIGEN_PROCESSING_AND_PRESENTATION_H01714\" = \"KEGG_ANTIGEN_PROCESSING_AND_PRESENTATION\",\n",
    "              \"KEGG_T_CELL_RECEPTOR_SIGNALING_PATHWAY_H01714\" = \"KEGG_T_CELL_RECEPTOR_SIGNALING_PATHWAY \",\n",
    "              \"KEGG_FC_EPSILON_RI_SIGNALING_PATHWAY_H01714\" = \"KEGG_FC_EPSILON_RI_SIGNALING_PATHWAY\",\n",
    "              \"KEGG_FC_GAMMA_R_MEDIATED_PHAGOCYTOSIS_H01714 \" = \"KEGG_FC_GAMMA_R_MEDIATED_PHAGOCYTOSIS\",\n",
    "              \"KEGG_LEUKOCYTE_TRANSENDOTHELIAL_MIGRATION_H01714\" = \"KEGG_LEUKOCYTE_TRANSENDOTHELIAL_MIGRATION\", \n",
    "              \"KEGG_INTESTINAL_IMMUNE_NETWORK_FOR_IGA_PRODUCTION_H01714\" = \"KEGG_INTESTINAL_IMMUNE_NETWORK_FOR_IGA_PRODUCTION\",\n",
    "              \"KEGG_CHEMOKINE_SIGNALING_PATHWAY_H01714\" = \"KEGG_CHEMOKINE_SIGNALING_PATHWAY\")\n",
    "Disease_pathwaynames = list(H00014,H00079,H00342,H01714)\n",
    "\n",
    "####target.pathway\n",
    "target.pathway_H00014 = Disease_pathwaynames[[1]]\n",
    "target.pathway_H00079 = Disease_pathwaynames[[2]]\n",
    "target.pathway_H00342 = Disease_pathwaynames[[3]]\n",
    "target.pathway_H01714 = Disease_pathwaynames[[4]]\n",
    "\n",
    "str(target.pathway_H00014) ### H00342"
   ]
  },
  {
   "cell_type": "code",
   "execution_count": 46,
   "metadata": {},
   "outputs": [
    {
     "data": {
      "text/plain": [
       "GeneSetCollection\n",
       "  names: KEGG_GLYCOLYSIS_GLUCONEOGENESIS, KEGG_CITRATE_CYCLE_TCA_CYCLE, ..., KEGG_VIRAL_MYOCARDITIS (186 total)\n",
       "  unique identifiers: 55902, 2645, ..., 1981 (5266 total)\n",
       "  types in collection:\n",
       "    geneIdType: EntrezIdentifier (1 total)\n",
       "    collectionType: BroadCollection (1 total)"
      ]
     },
     "metadata": {},
     "output_type": "display_data"
    }
   ],
   "source": [
    "library(GSEABase)\n",
    "KEGG_genesetcollection = getGmt(\"F:/lab_data/3. MSigDB files/c2.cp.kegg.v6.2.entrez.gmt\",\n",
    "                           geneIdType = EntrezIdentifier(),\n",
    "                           collectionType = BroadCollection(category=\"c2\"))\n",
    "KEGG_genesetcollection\n",
    "\n",
    "\n",
    "\n",
    "read.gmt = function(file){\n",
    "  if(!grepl(\"\\\\.gmt$\",file)[1]){stop(\"Pathway information must be a .gmt file\")}\n",
    "  geneSetDB = readLines(file)                                ##read in the gmt file as a vector of lines\n",
    "  geneSetDB = strsplit(geneSetDB,\"\\t\")                       ##convert from vector of strings to a list\n",
    "  names(geneSetDB) = sapply(geneSetDB,\"[\",1)                 ##move the names column as the names of the list\n",
    "  geneSetDB = lapply(geneSetDB, \"[\",-1:-2)                   ##remove name and description columns\n",
    "  geneSetDB = lapply(geneSetDB, function(x){x[which(x!=\"\")]})##remove empty strings\n",
    "  return(geneSetDB)\n",
    "}\n",
    "KEGG_genesetlist = read.gmt(\"F:/lab_data/3. MSigDB files/c2.all.v6.2.entrez.gmt\")\n",
    "KEGG_genesetlist = KEGG_genesetlist[grep(\"^KEGG\", names(KEGG_genesetlist))]\n",
    "genesets = KEGG_genesetlist\n",
    "# grep(\"^REACTOME\", names(genesetlist)),\n",
    "# grep(\"^BIOCARTA\", names(genesetlist)))]\n",
    "# KEGG_pathwaynameslist = as.matrix(KEGG_genesetlist)\n",
    "# KEGG_pathwaynameslist = list(gs = KEGG_genesetlist, pathwaynames = as.list(names(KEGG_pathwaynameslist)))\n",
    "# str(KEGG_genesetlist)\n",
    "# pathwaynames = Disease_pathwaynames\n",
    "# Generate a list that contains the previos two lists: genesets and their names\n",
    "pathwaynames = as.list(names(genesets))\n",
    "PATHWAYS = list()\n",
    "PATHWAYS$gs = genesets\n",
    "PATHWAYS$pathwaynames = pathwaynames"
   ]
  },
  {
   "cell_type": "code",
   "execution_count": 51,
   "metadata": {},
   "outputs": [],
   "source": [
    "# Save image into working directory\n",
    "save.image(\"E:/PIGSAR_Rdata/Data_import.RData\")\n",
    "\n",
    "### save history\n",
    "###savehistory(file = \"E:/PIGSAR_Rdata/Data_import.Rhistory\")"
   ]
  },
  {
   "cell_type": "markdown",
   "metadata": {},
   "source": [
    "# 3. Apply to methods\n",
    "\n",
    "Before using the method, we should library related R package and load the function:\n",
    "   \n",
    "   > library(GSVA) <br>\n",
    "   > library(pathifier) <br>\n",
    "   > library(individPath)\n",
    "   \n",
    "\n",
    "## 3.1 GSVA"
   ]
  },
  {
   "cell_type": "code",
   "execution_count": null,
   "metadata": {},
   "outputs": [],
   "source": [
    "if (!requireNamespace(\"BiocManager\", quietly = TRUE))\n",
    "  install.packages(\"BiocManager\")\n",
    "\n",
    "BiocManager::install(\"GSVA\")\n",
    "library(GSVA)"
   ]
  },
  {
   "cell_type": "code",
   "execution_count": 47,
   "metadata": {},
   "outputs": [],
   "source": [
    "library(GSVA)\n",
    "####functions to get result of \"gsva\"\n",
    "source(\"applied_gsva_4methods.R\")"
   ]
  },
  {
   "cell_type": "code",
   "execution_count": 48,
   "metadata": {},
   "outputs": [
    {
     "name": "stdout",
     "output_type": "stream",
     "text": [
      "Estimating ssGSEA scores for 186 gene sets.\n",
      "  |                                                                      |   0%Using parallel with 8 cores\n",
      "  |======================================================================| 100%\n",
      "Estimating GSVA scores for 186 gene sets.\n",
      "Computing observed enrichment scores\n",
      "Estimating ECDFs with Gaussian kernels\n",
      "Using parallel with 8 cores\n",
      "  |======================================================================| 100%\n",
      "Estimating combined z-scores for 186 gene sets.\n",
      "  |                                                                      |   0%Using parallel with 8 cores\n",
      "  |======================================================================| 100%\n",
      "Estimating PLAGE scores for 186 gene sets.\n",
      "  |                                                                      |   0%Using parallel with 8 cores\n",
      "  |======================================================================| 100%\n"
     ]
    }
   ],
   "source": [
    "###results of each dataset\n",
    "result.gsva_GSE10245 = applied_gsva_4methods(GSE10245_setentrez, KEGG_genesetcollection)"
   ]
  },
  {
   "cell_type": "code",
   "execution_count": 49,
   "metadata": {},
   "outputs": [
    {
     "name": "stdout",
     "output_type": "stream",
     "text": [
      "Estimating ssGSEA scores for 186 gene sets.\n",
      "  |                                                                      |   0%Using parallel with 8 cores\n",
      "  |======================================================================| 100%\n",
      "Estimating GSVA scores for 186 gene sets.\n",
      "Computing observed enrichment scores\n",
      "Estimating ECDFs with Gaussian kernels\n",
      "Using parallel with 8 cores\n",
      "  |======================================================================| 100%\n",
      "Estimating combined z-scores for 186 gene sets.\n",
      "  |                                                                      |   0%Using parallel with 8 cores\n",
      "  |======================================================================| 100%\n",
      "Estimating PLAGE scores for 186 gene sets.\n",
      "  |                                                                      |   0%Using parallel with 8 cores\n",
      "  |======================================================================| 100%\n"
     ]
    }
   ],
   "source": [
    "result.gsva_GSE11906 = applied_gsva_4methods(GSE11906_setentrez, KEGG_genesetcollection)"
   ]
  },
  {
   "cell_type": "code",
   "execution_count": 50,
   "metadata": {},
   "outputs": [
    {
     "name": "stdout",
     "output_type": "stream",
     "text": [
      "Estimating ssGSEA scores for 186 gene sets.\n",
      "  |                                                                      |   0%Using parallel with 8 cores\n",
      "  |======================================================================| 100%\n",
      "Estimating GSVA scores for 186 gene sets.\n",
      "Computing observed enrichment scores\n",
      "Estimating ECDFs with Gaussian kernels\n",
      "Using parallel with 8 cores\n",
      "  |======================================================================| 100%\n",
      "Estimating combined z-scores for 186 gene sets.\n",
      "  |                                                                      |   0%Using parallel with 8 cores\n",
      "  |======================================================================| 100%\n",
      "Estimating PLAGE scores for 186 gene sets.\n",
      "  |                                                                      |   0%Using parallel with 8 cores\n",
      "  |======================================================================| 100%\n"
     ]
    }
   ],
   "source": [
    "result.gsva_GSE18842 = applied_gsva_4methods(GSE18842_setentrez, KEGG_genesetcollection)"
   ]
  },
  {
   "cell_type": "code",
   "execution_count": 51,
   "metadata": {},
   "outputs": [
    {
     "name": "stdout",
     "output_type": "stream",
     "text": [
      "Estimating ssGSEA scores for 186 gene sets.\n",
      "  |                                                                      |   0%Using parallel with 8 cores\n",
      "  |======================================================================| 100%\n",
      "Estimating GSVA scores for 186 gene sets.\n",
      "Computing observed enrichment scores\n",
      "Estimating ECDFs with Gaussian kernels\n",
      "Using parallel with 8 cores\n",
      "  |======================================================================| 100%\n",
      "Estimating combined z-scores for 186 gene sets.\n",
      "  |                                                                      |   0%Using parallel with 8 cores\n",
      "  |======================================================================| 100%\n",
      "Estimating PLAGE scores for 186 gene sets.\n",
      "  |                                                                      |   0%Using parallel with 8 cores\n",
      "  |======================================================================| 100%\n"
     ]
    }
   ],
   "source": [
    "result.gsva_GSE35571 = applied_gsva_4methods(GSE35571_setentrez, KEGG_genesetcollection)"
   ]
  },
  {
   "cell_type": "code",
   "execution_count": 52,
   "metadata": {},
   "outputs": [
    {
     "name": "stdout",
     "output_type": "stream",
     "text": [
      "Estimating ssGSEA scores for 186 gene sets.\n",
      "  |                                                                      |   0%Using parallel with 8 cores\n",
      "  |======================================================================| 100%\n",
      "Estimating GSVA scores for 186 gene sets.\n",
      "Computing observed enrichment scores\n",
      "Estimating ECDFs with Gaussian kernels\n",
      "Using parallel with 8 cores\n",
      "  |======================================================================| 100%\n",
      "Estimating combined z-scores for 186 gene sets.\n",
      "  |                                                                      |   0%Using parallel with 8 cores\n",
      "  |======================================================================| 100%\n",
      "Estimating PLAGE scores for 186 gene sets.\n",
      "  |                                                                      |   0%Using parallel with 8 cores\n",
      "  |======================================================================| 100%\n"
     ]
    }
   ],
   "source": [
    "result.gsva_GSE42057 = applied_gsva_4methods(GSE42057_setentrez, KEGG_genesetcollection)"
   ]
  },
  {
   "cell_type": "code",
   "execution_count": 53,
   "metadata": {},
   "outputs": [
    {
     "name": "stdout",
     "output_type": "stream",
     "text": [
      "Estimating ssGSEA scores for 186 gene sets.\n",
      "  |                                                                      |   0%Using parallel with 8 cores\n",
      "  |======================================================================| 100%\n",
      "Estimating GSVA scores for 186 gene sets.\n",
      "Computing observed enrichment scores\n",
      "Estimating ECDFs with Gaussian kernels\n",
      "Using parallel with 8 cores\n",
      "  |======================================================================| 100%\n",
      "Estimating combined z-scores for 186 gene sets.\n",
      "  |                                                                      |   0%Using parallel with 8 cores\n",
      "  |======================================================================| 100%\n",
      "Estimating PLAGE scores for 186 gene sets.\n",
      "  |                                                                      |   0%Using parallel with 8 cores\n",
      "  |======================================================================| 100%\n"
     ]
    }
   ],
   "source": [
    "result.gsva_GSE50834 = applied_gsva_4methods(GSE50834_setentrez, KEGG_genesetcollection)"
   ]
  },
  {
   "cell_type": "code",
   "execution_count": 54,
   "metadata": {},
   "outputs": [
    {
     "name": "stdout",
     "output_type": "stream",
     "text": [
      "Estimating ssGSEA scores for 186 gene sets.\n",
      "  |                                                                      |   0%Using parallel with 8 cores\n",
      "  |======================================================================| 100%\n",
      "Estimating GSVA scores for 186 gene sets.\n",
      "Computing observed enrichment scores\n",
      "Estimating ECDFs with Gaussian kernels\n",
      "Using parallel with 8 cores\n",
      "  |======================================================================| 100%\n",
      "Estimating combined z-scores for 186 gene sets.\n",
      "  |                                                                      |   0%Using parallel with 8 cores\n",
      "  |======================================================================| 100%\n",
      "Estimating PLAGE scores for 186 gene sets.\n",
      "  |                                                                      |   0%Using parallel with 8 cores\n",
      "  |======================================================================| 100%\n"
     ]
    }
   ],
   "source": [
    "result.gsva_GSE52819 = applied_gsva_4methods(GSE52819_setentrez, KEGG_genesetcollection)"
   ]
  },
  {
   "cell_type": "code",
   "execution_count": 55,
   "metadata": {},
   "outputs": [
    {
     "name": "stdout",
     "output_type": "stream",
     "text": [
      "Estimating ssGSEA scores for 81 gene sets.\n",
      "  |                                                                      |   0%Using parallel with 8 cores\n",
      "  |======================================================================| 100%\n",
      "Estimating GSVA scores for 81 gene sets.\n",
      "Computing observed enrichment scores\n",
      "Estimating ECDFs with Gaussian kernels\n",
      "Using parallel with 8 cores\n",
      "  |======================================================================| 100%\n",
      "Estimating combined z-scores for 81 gene sets.\n",
      "  |                                                                      |   0%Using parallel with 8 cores\n",
      "  |======================================================================| 100%\n",
      "Estimating PLAGE scores for 81 gene sets.\n",
      "  |                                                                      |   0%Using parallel with 8 cores\n",
      "  |======================================================================| 100%\n"
     ]
    }
   ],
   "source": [
    "result.gsva_GSE67472 = applied_gsva_4methods(GSE67472_setentrez, KEGG_genesetcollection)"
   ]
  },
  {
   "cell_type": "code",
   "execution_count": 66,
   "metadata": {},
   "outputs": [],
   "source": [
    "# Save image into working directory\n",
    "save.image(\"E:/PIGSAR_Rdata/Data_GSVA.RData\")"
   ]
  },
  {
   "cell_type": "markdown",
   "metadata": {},
   "source": [
    "## 3.2 pathifier "
   ]
  },
  {
   "cell_type": "code",
   "execution_count": null,
   "metadata": {},
   "outputs": [],
   "source": [
    "if (!requireNamespace(\"BiocManager\", quietly = TRUE))\n",
    "  install.packages(\"BiocManager\")\n",
    "\n",
    "BiocManager::install(\"pathifier\")\n",
    "library(pathifier)"
   ]
  },
  {
   "cell_type": "code",
   "execution_count": 118,
   "metadata": {},
   "outputs": [],
   "source": [
    "source(\"applied_pathifier.R\")"
   ]
  },
  {
   "cell_type": "code",
   "execution_count": 112,
   "metadata": {},
   "outputs": [
    {
     "name": "stdout",
     "output_type": "stream",
     "text": [
      "robust_score_bydist. min_exp= 2.202781 , min_std= 0.1316397 \n",
      "pathway  1 > sig: 0.02833935 \n",
      "pathway  2 > sig: 0.07484975 \n",
      "pathway  2  k= 9 ( 9 ) wj= 1 >new sig: 0.03679667 | accepted!\n",
      "pathway  3 > sig: 0.1067417 \n",
      "pathway  3  k= 7 ( 7 ) wj= 4 >new sig: 0.02685684 | accepted!\n",
      "pathway  4 > sig: 0.05542046 \n",
      "pathway  5 > sig: 0.02309029 \n",
      "pathway  6 > sig: 0.06971328 \n",
      "pathway  6  k= 7 ( 7 ) wj= 2 >new sig: 0.03746628 | accepted!\n",
      "pathway  7 > sig: 0.03029707 \n",
      "pathway  8 > sig: 0.04295348 \n",
      "pathway  9 > sig: 0.1035131 \n",
      "pathway  10 > sig: 0.09180126 \n",
      "pathway  11 > sig: 0.1093656 \n",
      "pathway  11  k= 8 ( 8 ) wj= 5 >new sig: 0.07095391 | accepted!\n",
      "pathway  11  k= 7 ( 7 ) wj= 4 >new sig: 0.06712837 x rejected\n",
      "pathway  12 > sig: 0.03168905 \n",
      "pathway  13 > sig: 0.0630005 \n",
      "pathway  13  k= 34 ( 34 ) wj= 1 >new sig: 0.0598069 x rejected\n",
      "pathway  14 > sig: 0.06649984 \n",
      "pathway  14  k= 22 ( 22 ) wj= 5 >new sig: 0.05602265 | accepted!\n",
      "pathway  14  k= 21 ( 21 ) wj= 3 >new sig: 0.04780351 x rejected\n",
      "pathway  15 > sig: 0.07733463 \n",
      "pathway  15  k= 9 ( 9 ) wj= 1 >new sig: 0.04540988 | accepted!\n",
      "pathway  16 > sig: 0.06894947 \n",
      "pathway  16  k= 8 ( 8 ) wj= 4 >new sig: 0.03640584 | accepted!\n",
      "pathway  17 > sig: 0.06205268 \n",
      "pathway  17  k= 9 ( 9 ) wj= 1 >new sig: 0.0445103 | accepted!\n",
      "pathway  18 > sig: 0.03689035 \n",
      "pathway  19 > sig: 0.1177476 \n",
      "pathway  20 > sig: 0.06870428 \n",
      "pathway  20  k= 14 ( 14 ) wj= 5 >new sig: 0.06336333 x rejected\n",
      "pathway  21 > sig: 0.09282636 \n",
      "pathway  21  k= 13 ( 13 ) wj= 4 >new sig: 0.08840218 x rejected\n",
      "pathway  22 > sig: 0.02414588 \n",
      "pathway  23 > sig: 0.08553557 \n"
     ]
    },
    {
     "name": "stderr",
     "output_type": "stream",
     "text": [
      "Warning message in stats::smooth.spline(lambda, xj, ..., df = df, keep.data = FALSE):\n",
      "\"smoothing parameter value too large\n",
      "setting df = 1  __use with care!__\"Warning message in stats::smooth.spline(lambda, xj, ..., df = df, keep.data = FALSE):\n",
      "\"smoothing parameter value too large\n",
      "setting df = 1  __use with care!__\"Warning message in stats::smooth.spline(lambda, xj, ..., df = df, keep.data = FALSE):\n",
      "\"smoothing parameter value too large\n",
      "setting df = 1  __use with care!__\"Warning message in stats::smooth.spline(lambda, xj, ..., df = df, keep.data = FALSE):\n",
      "\"smoothing parameter value too large\n",
      "setting df = 1  __use with care!__\"Warning message in stats::smooth.spline(lambda, xj, ..., df = df, keep.data = FALSE):\n",
      "\"smoothing parameter value too large\n",
      "setting df = 1  __use with care!__\"Warning message in stats::smooth.spline(lambda, xj, ..., df = df, keep.data = FALSE):\n",
      "\"smoothing parameter value too large\n",
      "setting df = 1  __use with care!__\"Warning message in stats::smooth.spline(lambda, xj, ..., df = df, keep.data = FALSE):\n",
      "\"smoothing parameter value too large\n",
      "setting df = 1  __use with care!__\"Warning message in stats::smooth.spline(lambda, xj, ..., df = df, keep.data = FALSE):\n",
      "\"smoothing parameter value too large\n",
      "setting df = 1  __use with care!__\"Warning message in stats::smooth.spline(lambda, xj, ..., df = df, keep.data = FALSE):\n",
      "\"smoothing parameter value too large\n",
      "setting df = 1  __use with care!__\"Warning message in stats::smooth.spline(lambda, xj, ..., df = df, keep.data = FALSE):\n",
      "\"smoothing parameter value too large\n",
      "setting df = 1  __use with care!__\"Warning message in stats::smooth.spline(lambda, xj, ..., df = df, keep.data = FALSE):\n",
      "\"smoothing parameter value too large\n",
      "setting df = 1  __use with care!__\"Warning message in stats::smooth.spline(lambda, xj, ..., df = df, keep.data = FALSE):\n",
      "\"smoothing parameter value too large\n",
      "setting df = 1  __use with care!__\"Warning message in stats::smooth.spline(lambda, xj, ..., df = df, keep.data = FALSE):\n",
      "\"smoothing parameter value too large\n",
      "setting df = 1  __use with care!__\"Warning message in stats::smooth.spline(lambda, xj, ..., df = df, keep.data = FALSE):\n",
      "\"smoothing parameter value too large\n",
      "setting df = 1  __use with care!__\"Warning message in stats::smooth.spline(lambda, xj, ..., df = df, keep.data = FALSE):\n",
      "\"smoothing parameter value too large\n",
      "setting df = 1  __use with care!__\"Warning message in stats::smooth.spline(lambda, xj, ..., df = df, keep.data = FALSE):\n",
      "\"smoothing parameter value too large\n",
      "setting df = 1  __use with care!__\"Warning message in stats::smooth.spline(lambda, xj, ..., df = df, keep.data = FALSE):\n",
      "\"smoothing parameter value too large\n",
      "setting df = 1  __use with care!__\"Warning message in stats::smooth.spline(lambda, xj, ..., df = df, keep.data = FALSE):\n",
      "\"smoothing parameter value too large\n",
      "setting df = 1  __use with care!__\""
     ]
    },
    {
     "name": "stdout",
     "output_type": "stream",
     "text": [
      "pathway  23  k= 10 ( 10 ) wj= 5 >new sig: 0.03584869 | accepted!\n",
      "pathway  24 > sig: 0.09323574 \n",
      "pathway  25 > sig: 0.04519946 \n",
      "pathway  26 > sig: 0.03879489 \n",
      "pathway  27 > sig: 0.1197791 \n",
      "pathway  28 > sig: 0.1232901 \n",
      "pathway  28  k= 7 ( 7 ) wj= 4 >new sig: 0.04836814 | accepted!\n",
      "pathway  29 > sig: 0.07184468 \n",
      "pathway  29  k= 13 ( 13 ) wj= 3 >new sig: 0.07270204 x rejected\n",
      "pathway  30 > sig: 0.03412467 \n",
      "pathway  31 > sig: 0.09914195 \n",
      "pathway  31  k= 12 ( 12 ) wj= 2 >new sig: 0.07387904 | accepted!\n",
      "pathway  31  k= 11 ( 11 ) wj= 3 >new sig: 0.06215527 | accepted!\n",
      "pathway  31  k= 10 ( 10 ) wj= 2 >new sig: 0.06107727 x rejected\n",
      "pathway  32 > sig: 0.06284045 \n",
      "pathway  33 > sig: 0.1025512 \n",
      "pathway  33  k= 8 ( 8 ) wj= 5 >new sig: 0.1029816 x rejected\n",
      "pathway  34 > sig: 0.04362599 \n",
      "pathway  35 > sig: 0.1151207 \n",
      "pathway  36 > sig: 0.06592978 \n",
      "pathway  36  k= 6 ( 6 ) wj= 4 >new sig: 0.02855356 | accepted!\n",
      "pathway  37 > sig: 0.08632107 \n",
      "pathway  38 > sig: 0.1008246 \n",
      "pathway  38  k= 8 ( 8 ) wj= 3 >new sig: 0.08925192 | accepted!\n",
      "pathway  38  k= 7 ( 7 ) wj= 3 >new sig: 0.06661198 | accepted!\n",
      "pathway  38  k= 6 ( 6 ) wj= 3 >new sig: 0.05414277 | accepted!\n",
      "pathway  39 > sig: 0.06762351 \n",
      "pathway  39  k= 14 ( 14 ) wj= 2 >new sig: 0.0509627 | accepted!\n",
      "pathway  39  k= 13 ( 13 ) wj= 1 >new sig: 0.04119586 | accepted!\n",
      "pathway  40 > sig: 0.07335117 \n",
      "pathway  40  k= 14 ( 14 ) wj= 5 >new sig: 0.06277986 | accepted!\n",
      "pathway  40  k= 13 ( 13 ) wj= 2 >new sig: 0.05568699 x rejected\n",
      "pathway  41 > sig: 0.04937229 \n",
      "pathway  42 > sig: 0.04417438 \n",
      "pathway  43 > sig: 0.04525888 \n",
      "pathway  44 > sig: 0.06109341 \n"
     ]
    },
    {
     "name": "stderr",
     "output_type": "stream",
     "text": [
      "Warning message in stats::smooth.spline(lambda, xj, ..., df = df, keep.data = FALSE):\n",
      "\"smoothing parameter value too large\n",
      "setting df = 1  __use with care!__\"Warning message in stats::smooth.spline(lambda, xj, ..., df = df, keep.data = FALSE):\n",
      "\"smoothing parameter value too large\n",
      "setting df = 1  __use with care!__\"Warning message in stats::smooth.spline(lambda, xj, ..., df = df, keep.data = FALSE):\n",
      "\"smoothing parameter value too large\n",
      "setting df = 1  __use with care!__\"Warning message in stats::smooth.spline(lambda, xj, ..., df = df, keep.data = FALSE):\n",
      "\"smoothing parameter value too large\n",
      "setting df = 1  __use with care!__\"Warning message in stats::smooth.spline(lambda, xj, ..., df = df, keep.data = FALSE):\n",
      "\"smoothing parameter value too large\n",
      "setting df = 1  __use with care!__\"Warning message in stats::smooth.spline(lambda, xj, ..., df = df, keep.data = FALSE):\n",
      "\"smoothing parameter value too large\n",
      "setting df = 1  __use with care!__\"Warning message in stats::smooth.spline(lambda, xj, ..., df = df, keep.data = FALSE):\n",
      "\"smoothing parameter value too large\n",
      "setting df = 1  __use with care!__\"Warning message in stats::smooth.spline(lambda, xj, ..., df = df, keep.data = FALSE):\n",
      "\"smoothing parameter value too large\n",
      "setting df = 1  __use with care!__\"Warning message in stats::smooth.spline(lambda, xj, ..., df = df, keep.data = FALSE):\n",
      "\"smoothing parameter value too large\n",
      "setting df = 1  __use with care!__\"Warning message in stats::smooth.spline(lambda, xj, ..., df = df, keep.data = FALSE):\n",
      "\"smoothing parameter value too large\n",
      "setting df = 1  __use with care!__\"Warning message in stats::smooth.spline(lambda, xj, ..., df = df, keep.data = FALSE):\n",
      "\"smoothing parameter value too large\n",
      "setting df = 1  __use with care!__\"Warning message in stats::smooth.spline(lambda, xj, ..., df = df, keep.data = FALSE):\n",
      "\"smoothing parameter value too large\n",
      "setting df = 1  __use with care!__\""
     ]
    },
    {
     "name": "stdout",
     "output_type": "stream",
     "text": [
      "pathway  44  k= 13 ( 13 ) wj= 3 >new sig: 0.05458088 x rejected\n",
      "pathway  45 > sig: 0.05635995 \n",
      "pathway  45  k= 7 ( 7 ) wj= 5 >new sig: 0.05455423 x rejected\n",
      "pathway  46 > sig: 0.08203671 \n",
      "pathway  46  k= 6 ( 6 ) wj= 5 >new sig: 0.04789639 | accepted!\n",
      "pathway  47 > sig: 0.05167369 \n",
      "pathway  47  k= 8 ( 8 ) wj= 5 >new sig: 0.05144545 x rejected\n",
      "pathway  48 > sig: 0.0763414 \n",
      "pathway  48  k= 6 ( 6 ) wj= 5 >new sig: 0.04550301 | accepted!\n",
      "pathway  49 > sig: 0.1031196 \n",
      "pathway  50 > sig: 0.08056399 \n",
      "pathway  51 > sig: 0.04611103 \n",
      "pathway  52 > sig: 0.06444791 \n",
      "pathway  53 > sig: 0.02145375 \n",
      "pathway  54 > sig: 0.03925896 \n",
      "pathway  55 > sig: 0.06336499 \n",
      "pathway  56 > sig: 0.0794655 \n",
      "pathway  57 > sig: 0.08091661 \n",
      "pathway  57  k= 7 ( 7 ) wj= 3 >new sig: 0.05807766 | accepted!\n",
      "pathway  57  k= 6 ( 6 ) wj= 3 >new sig: 0.05191838 x rejected\n",
      "pathway  58 > sig: 0.09954202 \n",
      "pathway  59 > sig: 0.03188699 \n",
      "pathway  60 > sig: 0.02108879 \n",
      "pathway  61 > sig: 0.0660724 \n",
      "pathway  61  k= 8 ( 8 ) wj= 1 >new sig: 0.06564019 x rejected\n",
      "pathway  62 > sig: 0.04732209 \n",
      "pathway  63 > sig: 0.05019315 \n",
      "pathway  64 > sig: 0.1073913 \n",
      "pathway  65 > sig: 0.07254613 \n",
      "pathway  66 > sig: 0.08212233 \n",
      "pathway  66  k= 12 ( 12 ) wj= 5 >new sig: 0.05992823 | accepted!\n",
      "pathway  66  k= 11 ( 11 ) wj= 5 >new sig: 0.05014444 | accepted!\n",
      "pathway  66  k= 10 ( 10 ) wj= 4 >new sig: 0.04489168 x rejected\n",
      "pathway  67 > sig: 0.08875308 \n",
      "pathway  67  k= 14 ( 14 ) wj= 5 >new sig: 0.04480141 | accepted!\n",
      "pathway  68 > sig: 0.08601429 \n",
      "pathway  68  k= 14 ( 14 ) wj= 2 >new sig: 0.03471044 | accepted!\n",
      "pathway  69 > sig: 0.04687297 \n",
      "pathway  70 > sig: 0.06119236 \n",
      "pathway  70  k= 8 ( 8 ) wj= 5 >new sig: 0.05113222 | accepted!\n",
      "pathway  70  k= 7 ( 7 ) wj= 5 >new sig: 0.04926607 x rejected\n",
      "pathway  71 > sig: 0.03458284 \n",
      "pathway  72 > sig: 0.03785209 \n",
      "pathway  73 > sig: 0.06013886 \n",
      "pathway  73  k= 17 ( 17 ) wj= 2 >new sig: 0.04999487 | accepted!\n",
      "pathway  74 > sig: 0.04643696 \n",
      "pathway  75 > sig: 0.143432 \n"
     ]
    },
    {
     "name": "stderr",
     "output_type": "stream",
     "text": [
      "Warning message in stats::smooth.spline(lambda, xj, ..., df = df, keep.data = FALSE):\n",
      "\"smoothing parameter value too large\n",
      "setting df = 1  __use with care!__\"Warning message in stats::smooth.spline(lambda, xj, ..., df = df, keep.data = FALSE):\n",
      "\"smoothing parameter value too large\n",
      "setting df = 1  __use with care!__\"Warning message in stats::smooth.spline(lambda, xj, ..., df = df, keep.data = FALSE):\n",
      "\"smoothing parameter value too large\n",
      "setting df = 1  __use with care!__\"Warning message in stats::smooth.spline(lambda, xj, ..., df = df, keep.data = FALSE):\n",
      "\"smoothing parameter value too large\n",
      "setting df = 1  __use with care!__\"Warning message in stats::smooth.spline(lambda, xj, ..., df = df, keep.data = FALSE):\n",
      "\"smoothing parameter value too large\n",
      "setting df = 1  __use with care!__\"Warning message in stats::smooth.spline(lambda, xj, ..., df = df, keep.data = FALSE):\n",
      "\"smoothing parameter value too large\n",
      "setting df = 1  __use with care!__\"Warning message in stats::smooth.spline(lambda, xj, ..., df = df, keep.data = FALSE):\n",
      "\"smoothing parameter value too large\n",
      "setting df = 1  __use with care!__\"Warning message in stats::smooth.spline(lambda, xj, ..., df = df, keep.data = FALSE):\n",
      "\"smoothing parameter value too large\n",
      "setting df = 1  __use with care!__\""
     ]
    },
    {
     "name": "stdout",
     "output_type": "stream",
     "text": [
      "pathway  75  k= 9 ( 9 ) wj= 4 >new sig: 0.1195668 | accepted!\n",
      "pathway  75  k= 8 ( 8 ) wj= 4 >new sig: 0.1180219 x rejected\n",
      "pathway  76 > sig: 0.01694306 \n",
      "pathway  77 > sig: 0.03933147 \n",
      "pathway  78 > sig: 0.05819899 \n",
      "pathway  78  k= 11 ( 11 ) wj= 1 >new sig: 0.03585048 | accepted!\n",
      "pathway  79 > sig: 0.0776389 \n",
      "pathway  79  k= 8 ( 8 ) wj= 5 >new sig: 0.06368404 | accepted!\n",
      "pathway  79  k= 7 ( 7 ) wj= 4 >new sig: 0.05760674 x rejected\n",
      "pathway  80 > sig: 0.05376585 \n",
      "pathway  80  k= 16 ( 16 ) wj= 2 >new sig: 0.03825833 | accepted!\n",
      "pathway  81 > sig: 0.01595562 \n",
      "pathway  82 > sig: 0.04468004 \n",
      "pathway  83 > sig: 0.02565884 \n",
      "pathway  84 > sig: 0.02588189 \n",
      "pathway  85 > sig: 0.07764303 \n",
      "pathway  86 > sig: 0.02635357 \n",
      "pathway  87 > sig: 0.03626628 \n",
      "pathway  88 > sig: 0.03836881 \n",
      "pathway  89 > sig: 0.06556396 \n",
      "pathway  89  k= 40 ( 40 ) wj= 4 >new sig: 0.05528274 | accepted!\n",
      "pathway  89  k= 39 ( 39 ) wj= 4 >new sig: 0.04712808 x rejected\n",
      "pathway  90 > sig: 0.08930323 \n",
      "pathway  90  k= 36 ( 36 ) wj= 5 >new sig: 0.05977354 | accepted!\n",
      "pathway  90  k= 35 ( 35 ) wj= 1 >new sig: 0.06187648 x rejected\n",
      "pathway  91 > sig: 0.04153597 \n",
      "pathway  92 > sig: 0.04174746 \n",
      "pathway  93 > sig: 0.03401085 \n",
      "pathway  94 > sig: 0.06238962 \n",
      "pathway  94  k= 26 ( 26 ) wj= 2 >new sig: 0.06711944 x rejected\n",
      "pathway  95 > sig: 0.04532772 \n",
      "pathway  96 > sig: 0.0710967 \n",
      "pathway  96  k= 30 ( 30 ) wj= 4 >new sig: 0.05758397 | accepted!\n",
      "pathway  96  k= 29 ( 29 ) wj= 1 >new sig: 0.05207136 x rejected\n",
      "pathway  97 > sig: 0.05647876 \n",
      "pathway  97  k= 10 ( 10 ) wj= 3 >new sig: 0.04632575 | accepted!\n",
      "pathway  98 > sig: 0.07138959 \n",
      "pathway  98  k= 7 ( 7 ) wj= 3 >new sig: 0.04913605 | accepted!\n",
      "pathway  99 > sig: 0.04703911 \n",
      "pathway  100 > sig: 0.05969717 \n",
      "pathway  100  k= 37 ( 37 ) wj= 5 >new sig: 0.0588206 x rejected\n",
      "pathway  101 > sig: 0.07787588 \n",
      "pathway  101  k= 21 ( 21 ) wj= 3 >new sig: 0.07457805 x rejected\n",
      "pathway  102 > sig: 0.0750496 \n",
      "pathway  102  k= 16 ( 16 ) wj= 5 >new sig: 0.03702932 | accepted!\n",
      "pathway  103 > sig: 0.07673044 \n",
      "pathway  103  k= 22 ( 22 ) wj= 1 >new sig: 0.0633183 | accepted!\n",
      "pathway  103  k= 21 ( 21 ) wj= 3 >new sig: 0.0617906 x rejected\n",
      "pathway  104 > sig: 0.08150646 \n",
      "pathway  104  k= 16 ( 16 ) wj= 1 >new sig: 0.01891549 | accepted!\n",
      "pathway  105 > sig: 0.09383566 \n",
      "pathway  105  k= 27 ( 27 ) wj= 3 >new sig: 0.05937292 | accepted!\n"
     ]
    },
    {
     "name": "stderr",
     "output_type": "stream",
     "text": [
      "Warning message in stats::smooth.spline(lambda, xj, ..., df = df, keep.data = FALSE):\n",
      "\"smoothing parameter value too large\n",
      "setting df = 1  __use with care!__\"Warning message in stats::smooth.spline(lambda, xj, ..., df = df, keep.data = FALSE):\n",
      "\"smoothing parameter value too large\n",
      "setting df = 1  __use with care!__\"Warning message in stats::smooth.spline(lambda, xj, ..., df = df, keep.data = FALSE):\n",
      "\"smoothing parameter value too large\n",
      "setting df = 1  __use with care!__\"Warning message in stats::smooth.spline(lambda, xj, ..., df = df, keep.data = FALSE):\n",
      "\"smoothing parameter value too large\n",
      "setting df = 1  __use with care!__\"Warning message in stats::smooth.spline(lambda, xj, ..., df = df, keep.data = FALSE):\n",
      "\"smoothing parameter value too large\n",
      "setting df = 1  __use with care!__\"Warning message in stats::smooth.spline(lambda, xj, ..., df = df, keep.data = FALSE):\n",
      "\"smoothing parameter value too large\n",
      "setting df = 1  __use with care!__\"Warning message in stats::smooth.spline(lambda, xj, ..., df = df, keep.data = FALSE):\n",
      "\"smoothing parameter value too large\n",
      "setting df = 1  __use with care!__\"Warning message in stats::smooth.spline(lambda, xj, ..., df = df, keep.data = FALSE):\n",
      "\"smoothing parameter value too large\n",
      "setting df = 1  __use with care!__\"Warning message in stats::smooth.spline(lambda, xj, ..., df = df, keep.data = FALSE):\n",
      "\"smoothing parameter value too large\n",
      "setting df = 1  __use with care!__\"Warning message in stats::smooth.spline(lambda, xj, ..., df = df, keep.data = FALSE):\n",
      "\"smoothing parameter value too large\n",
      "setting df = 1  __use with care!__\"Warning message in stats::smooth.spline(lambda, xj, ..., df = df, keep.data = FALSE):\n",
      "\"smoothing parameter value too large\n",
      "setting df = 1  __use with care!__\"Warning message in stats::smooth.spline(lambda, xj, ..., df = df, keep.data = FALSE):\n",
      "\"smoothing parameter value too large\n",
      "setting df = 1  __use with care!__\"Warning message in stats::smooth.spline(lambda, xj, ..., df = df, keep.data = FALSE):\n",
      "\"smoothing parameter value too large\n",
      "setting df = 1  __use with care!__\"Warning message in stats::smooth.spline(lambda, xj, ..., df = df, keep.data = FALSE):\n",
      "\"smoothing parameter value too large\n",
      "setting df = 1  __use with care!__\"Warning message in stats::smooth.spline(lambda, xj, ..., df = df, keep.data = FALSE):\n",
      "\"smoothing parameter value too large\n",
      "setting df = 1  __use with care!__\"Warning message in stats::smooth.spline(lambda, xj, ..., df = df, keep.data = FALSE):\n",
      "\"smoothing parameter value too large\n",
      "setting df = 1  __use with care!__\"Warning message in stats::smooth.spline(lambda, xj, ..., df = df, keep.data = FALSE):\n",
      "\"smoothing parameter value too large\n",
      "setting df = 1  __use with care!__\"Warning message in stats::smooth.spline(lambda, xj, ..., df = df, keep.data = FALSE):\n",
      "\"smoothing parameter value too large\n",
      "setting df = 1  __use with care!__\"Warning message in stats::smooth.spline(lambda, xj, ..., df = df, keep.data = FALSE):\n",
      "\"smoothing parameter value too large\n",
      "setting df = 1  __use with care!__\"Warning message in stats::smooth.spline(lambda, xj, ..., df = df, keep.data = FALSE):\n",
      "\"smoothing parameter value too large\n",
      "setting df = 1  __use with care!__\"Warning message in stats::smooth.spline(lambda, xj, ..., df = df, keep.data = FALSE):\n",
      "\"smoothing parameter value too large\n",
      "setting df = 1  __use with care!__\"Warning message in stats::smooth.spline(lambda, xj, ..., df = df, keep.data = FALSE):\n",
      "\"smoothing parameter value too large\n",
      "setting df = 1  __use with care!__\"Warning message in stats::smooth.spline(lambda, xj, ..., df = df, keep.data = FALSE):\n",
      "\"smoothing parameter value too large\n",
      "setting df = 1  __use with care!__\"Warning message in stats::smooth.spline(lambda, xj, ..., df = df, keep.data = FALSE):\n",
      "\"smoothing parameter value too large\n",
      "setting df = 1  __use with care!__\"Warning message in stats::smooth.spline(lambda, xj, ..., df = df, keep.data = FALSE):\n",
      "\"smoothing parameter value too large\n",
      "setting df = 1  __use with care!__\"Warning message in stats::smooth.spline(lambda, xj, ..., df = df, keep.data = FALSE):\n",
      "\"smoothing parameter value too large\n",
      "setting df = 1  __use with care!__\"Warning message in stats::smooth.spline(lambda, xj, ..., df = df, keep.data = FALSE):\n",
      "\"smoothing parameter value too large\n",
      "setting df = 1  __use with care!__\"Warning message in stats::smooth.spline(lambda, xj, ..., df = df, keep.data = FALSE):\n",
      "\"smoothing parameter value too large\n",
      "setting df = 1  __use with care!__\"Warning message in stats::smooth.spline(lambda, xj, ..., df = df, keep.data = FALSE):\n",
      "\"smoothing parameter value too large\n",
      "setting df = 1  __use with care!__\"Warning message in stats::smooth.spline(lambda, xj, ..., df = df, keep.data = FALSE):\n",
      "\"smoothing parameter value too large\n",
      "setting df = 1  __use with care!__\"Warning message in stats::smooth.spline(lambda, xj, ..., df = df, keep.data = FALSE):\n",
      "\"smoothing parameter value too large\n",
      "setting df = 1  __use with care!__\"Warning message in stats::smooth.spline(lambda, xj, ..., df = df, keep.data = FALSE):\n",
      "\"smoothing parameter value too large\n",
      "setting df = 1  __use with care!__\"Warning message in stats::smooth.spline(lambda, xj, ..., df = df, keep.data = FALSE):\n",
      "\"smoothing parameter value too large\n",
      "setting df = 1  __use with care!__\"Warning message in stats::smooth.spline(lambda, xj, ..., df = df, keep.data = FALSE):\n",
      "\"smoothing parameter value too large\n",
      "setting df = 1  __use with care!__\"Warning message in stats::smooth.spline(lambda, xj, ..., df = df, keep.data = FALSE):\n",
      "\"smoothing parameter value too large\n",
      "setting df = 1  __use with care!__\"Warning message in stats::smooth.spline(lambda, xj, ..., df = df, keep.data = FALSE):\n",
      "\"smoothing parameter value too large\n",
      "setting df = 1  __use with care!__\"Warning message in stats::smooth.spline(lambda, xj, ..., df = df, keep.data = FALSE):\n",
      "\"smoothing parameter value too large\n",
      "setting df = 1  __use with care!__\"Warning message in stats::smooth.spline(lambda, xj, ..., df = df, keep.data = FALSE):\n",
      "\"smoothing parameter value too large\n",
      "setting df = 1  __use with care!__\"Warning message in stats::smooth.spline(lambda, xj, ..., df = df, keep.data = FALSE):\n",
      "\"smoothing parameter value too large\n",
      "setting df = 1  __use with care!__\"Warning message in stats::smooth.spline(lambda, xj, ..., df = df, keep.data = FALSE):\n",
      "\"smoothing parameter value too large\n",
      "setting df = 1  __use with care!__\"Warning message in stats::smooth.spline(lambda, xj, ..., df = df, keep.data = FALSE):\n",
      "\"smoothing parameter value too large\n",
      "setting df = 1  __use with care!__\"Warning message in stats::smooth.spline(lambda, xj, ..., df = df, keep.data = FALSE):\n",
      "\"smoothing parameter value too large\n",
      "setting df = 1  __use with care!__\"Warning message in stats::smooth.spline(lambda, xj, ..., df = df, keep.data = FALSE):\n",
      "\"smoothing parameter value too large\n",
      "setting df = 1  __use with care!__\"Warning message in stats::smooth.spline(lambda, xj, ..., df = df, keep.data = FALSE):\n",
      "\"smoothing parameter value too large\n",
      "setting df = 1  __use with care!__\"Warning message in stats::smooth.spline(lambda, xj, ..., df = df, keep.data = FALSE):\n",
      "\"smoothing parameter value too large\n",
      "setting df = 1  __use with care!__\"Warning message in stats::smooth.spline(lambda, xj, ..., df = df, keep.data = FALSE):\n",
      "\"smoothing parameter value too large\n",
      "setting df = 1  __use with care!__\"Warning message in stats::smooth.spline(lambda, xj, ..., df = df, keep.data = FALSE):\n",
      "\"smoothing parameter value too large\n",
      "setting df = 1  __use with care!__\"Warning message in stats::smooth.spline(lambda, xj, ..., df = df, keep.data = FALSE):\n",
      "\"smoothing parameter value too large\n",
      "setting df = 1  __use with care!__\"Warning message in stats::smooth.spline(lambda, xj, ..., df = df, keep.data = FALSE):\n",
      "\"smoothing parameter value too large\n",
      "setting df = 1  __use with care!__\"Warning message in stats::smooth.spline(lambda, xj, ..., df = df, keep.data = FALSE):\n",
      "\"smoothing parameter value too large\n",
      "setting df = 1  __use with care!__\""
     ]
    },
    {
     "name": "stdout",
     "output_type": "stream",
     "text": [
      "pathway  105  k= 26 ( 26 ) wj= 1 >new sig: 0.05701817 x rejected\n",
      "pathway  106 > sig: 0.04565152 \n",
      "pathway  107 > sig: 0.08007913 \n",
      "pathway  107  k= 9 ( 9 ) wj= 3 >new sig: 0.06734071 | accepted!\n",
      "pathway  107  k= 8 ( 8 ) wj= 2 >new sig: 0.06590294 x rejected\n",
      "pathway  108 > sig: 0.0674176 \n",
      "pathway  108  k= 13 ( 13 ) wj= 1 >new sig: 0.05274276 | accepted!\n",
      "pathway  108  k= 12 ( 12 ) wj= 2 >new sig: 0.03224908 | accepted!\n",
      "pathway  109 > sig: 0.05079007 \n",
      "pathway  109  k= 15 ( 15 ) wj= 1 >new sig: 0.03647505 | accepted!\n",
      "pathway  110 > sig: 0.06025999 \n",
      "pathway  110  k= 21 ( 21 ) wj= 2 >new sig: 0.04745362 | accepted!\n",
      "pathway  111 > sig: 0.05606533 \n",
      "pathway  111  k= 29 ( 29 ) wj= 3 >new sig: 0.03602581 | accepted!\n",
      "pathway  112 > sig: 0.07959124 \n",
      "pathway  112  k= 19 ( 19 ) wj= 1 >new sig: 0.05322149 | accepted!\n",
      "pathway  112  k= 18 ( 18 ) wj= 5 >new sig: 0.04454537 x rejected\n",
      "pathway  113 > sig: 0.03267394 \n",
      "pathway  114 > sig: 0.05740784 \n",
      "pathway  114  k= 18 ( 18 ) wj= 1 >new sig: 0.02414581 | accepted!\n",
      "pathway  115 > sig: 0.04015865 \n",
      "pathway  116 > sig: 0.07113643 \n",
      "pathway  116  k= 20 ( 20 ) wj= 2 >new sig: 0.05071556 | accepted!\n",
      "pathway  116  k= 19 ( 19 ) wj= 2 >new sig: 0.04654377 x rejected\n",
      "pathway  117 > sig: 0.04555815 \n",
      "pathway  118 > sig: 0.0841311 \n",
      "pathway  118  k= 21 ( 21 ) wj= 5 >new sig: 0.07755537 x rejected\n",
      "pathway  119 > sig: 0.06270724 \n",
      "pathway  119  k= 12 ( 12 ) wj= 2 >new sig: 0.03326397 | accepted!\n",
      "pathway  120 > sig: 0.07246573 \n",
      "pathway  120  k= 12 ( 12 ) wj= 1 >new sig: 0.04832037 | accepted!\n",
      "pathway  121 > sig: 0.08273155 \n",
      "pathway  122 > sig: 0.06236137 \n",
      "pathway  122  k= 20 ( 20 ) wj= 4 >new sig: 0.04585765 | accepted!\n",
      "pathway  123 > sig: 0.04786407 \n",
      "pathway  124 > sig: 0.09067992 \n",
      "pathway  124  k= 16 ( 16 ) wj= 1 >new sig: 0.08264637 x rejected\n",
      "pathway  125 > sig: 0.1390801 \n",
      "pathway  125  k= 11 ( 11 ) wj= 3 >new sig: 0.1072781 | accepted!\n",
      "pathway  125  k= 10 ( 10 ) wj= 5 >new sig: 0.07629935 | accepted!\n",
      "pathway  125  k= 9 ( 9 ) wj= 3 >new sig: 0.07286147 x rejected\n",
      "pathway  126 > sig: 0.04776966 \n",
      "pathway  127 > sig: 0.06615102 \n",
      "pathway  127  k= 15 ( 15 ) wj= 1 >new sig: 0.05615045 | accepted!\n",
      "pathway  127  k= 14 ( 14 ) wj= 4 >new sig: 0.05302263 x rejected\n",
      "pathway  128 > sig: 0.07538132 \n",
      "pathway  128  k= 25 ( 25 ) wj= 4 >new sig: 0.04367717 | accepted!\n",
      "pathway  129 > sig: 0.0524103 \n",
      "pathway  129  k= 24 ( 24 ) wj= 3 >new sig: 0.02992237 | accepted!\n",
      "pathway  130 > sig: 0.03195759 \n",
      "pathway  131 > sig: 0.1000832 \n",
      "pathway  131  k= 18 ( 18 ) wj= 5 >new sig: 0.07090573 | accepted!\n",
      "pathway  131  k= 17 ( 17 ) wj= 1 >new sig: 0.04670365 | accepted!\n",
      "pathway  132 > sig: 0.06088083 \n"
     ]
    },
    {
     "name": "stderr",
     "output_type": "stream",
     "text": [
      "Warning message in stats::smooth.spline(lambda, xj, ..., df = df, keep.data = FALSE):\n",
      "\"smoothing parameter value too large\n",
      "setting df = 1  __use with care!__\"Warning message in stats::smooth.spline(lambda, xj, ..., df = df, keep.data = FALSE):\n",
      "\"smoothing parameter value too large\n",
      "setting df = 1  __use with care!__\"Warning message in stats::smooth.spline(lambda, xj, ..., df = df, keep.data = FALSE):\n",
      "\"smoothing parameter value too large\n",
      "setting df = 1  __use with care!__\"Warning message in stats::smooth.spline(lambda, xj, ..., df = df, keep.data = FALSE):\n",
      "\"smoothing parameter value too large\n",
      "setting df = 1  __use with care!__\"Warning message in stats::smooth.spline(lambda, xj, ..., df = df, keep.data = FALSE):\n",
      "\"smoothing parameter value too large\n",
      "setting df = 1  __use with care!__\"Warning message in stats::smooth.spline(lambda, xj, ..., df = df, keep.data = FALSE):\n",
      "\"smoothing parameter value too large\n",
      "setting df = 1  __use with care!__\"Warning message in stats::smooth.spline(lambda, xj, ..., df = df, keep.data = FALSE):\n",
      "\"smoothing parameter value too large\n",
      "setting df = 1  __use with care!__\"Warning message in stats::smooth.spline(lambda, xj, ..., df = df, keep.data = FALSE):\n",
      "\"smoothing parameter value too large\n",
      "setting df = 1  __use with care!__\"Warning message in stats::smooth.spline(lambda, xj, ..., df = df, keep.data = FALSE):\n",
      "\"smoothing parameter value too large\n",
      "setting df = 1  __use with care!__\"Warning message in stats::smooth.spline(lambda, xj, ..., df = df, keep.data = FALSE):\n",
      "\"smoothing parameter value too large\n",
      "setting df = 1  __use with care!__\"Warning message in stats::smooth.spline(lambda, xj, ..., df = df, keep.data = FALSE):\n",
      "\"smoothing parameter value too large\n",
      "setting df = 1  __use with care!__\"Warning message in stats::smooth.spline(lambda, xj, ..., df = df, keep.data = FALSE):\n",
      "\"smoothing parameter value too large\n",
      "setting df = 1  __use with care!__\"Warning message in stats::smooth.spline(lambda, xj, ..., df = df, keep.data = FALSE):\n",
      "\"smoothing parameter value too large\n",
      "setting df = 1  __use with care!__\"Warning message in stats::smooth.spline(lambda, xj, ..., df = df, keep.data = FALSE):\n",
      "\"smoothing parameter value too large\n",
      "setting df = 1  __use with care!__\"Warning message in stats::smooth.spline(lambda, xj, ..., df = df, keep.data = FALSE):\n",
      "\"smoothing parameter value too large\n",
      "setting df = 1  __use with care!__\"Warning message in stats::smooth.spline(lambda, xj, ..., df = df, keep.data = FALSE):\n",
      "\"smoothing parameter value too large\n",
      "setting df = 1  __use with care!__\"Warning message in stats::smooth.spline(lambda, xj, ..., df = df, keep.data = FALSE):\n",
      "\"smoothing parameter value too large\n",
      "setting df = 1  __use with care!__\"Warning message in stats::smooth.spline(lambda, xj, ..., df = df, keep.data = FALSE):\n",
      "\"smoothing parameter value too large\n",
      "setting df = 1  __use with care!__\"Warning message in stats::smooth.spline(lambda, xj, ..., df = df, keep.data = FALSE):\n",
      "\"smoothing parameter value too large\n",
      "setting df = 1  __use with care!__\"Warning message in stats::smooth.spline(lambda, xj, ..., df = df, keep.data = FALSE):\n",
      "\"smoothing parameter value too large\n",
      "setting df = 1  __use with care!__\"Warning message in stats::smooth.spline(lambda, xj, ..., df = df, keep.data = FALSE):\n",
      "\"smoothing parameter value too large\n",
      "setting df = 1  __use with care!__\"Warning message in stats::smooth.spline(lambda, xj, ..., df = df, keep.data = FALSE):\n",
      "\"smoothing parameter value too large\n",
      "setting df = 1  __use with care!__\""
     ]
    },
    {
     "name": "stdout",
     "output_type": "stream",
     "text": [
      "pathway  132  k= 23 ( 23 ) wj= 1 >new sig: 0.05408751 x rejected\n",
      "pathway  133 > sig: 0.07942363 \n",
      "pathway  133  k= 24 ( 24 ) wj= 1 >new sig: 0.04983641 | accepted!\n",
      "pathway  134 > sig: 0.06226753 \n",
      "pathway  134  k= 7 ( 7 ) wj= 5 >new sig: 0.04511404 | accepted!\n",
      "pathway  135 > sig: 0.1292698 \n",
      "pathway  136 > sig: 0.06953686 \n",
      "pathway  136  k= 19 ( 19 ) wj= 4 >new sig: 0.06092218 x rejected\n",
      "pathway  137 > sig: 0.01538999 \n",
      "pathway  138 > sig: 0.06022923 \n",
      "pathway  138  k= 16 ( 16 ) wj= 2 >new sig: 0.04119441 | accepted!\n",
      "pathway  139 > sig: 0.04142697 \n",
      "pathway  140 > sig: 0.07127245 \n",
      "pathway  140  k= 9 ( 9 ) wj= 1 >new sig: 0.04776126 | accepted!\n",
      "pathway  141 > sig: 0.04221886 \n",
      "pathway  142 > sig: 0.05469293 \n",
      "pathway  142  k= 32 ( 32 ) wj= 4 >new sig: 0.04977897 x rejected\n",
      "pathway  143 > sig: 0.05378865 \n",
      "pathway  143  k= 23 ( 23 ) wj= 1 >new sig: 0.05286982 x rejected\n",
      "pathway  144 > sig: 0.06358312 \n",
      "pathway  144  k= 20 ( 20 ) wj= 5 >new sig: 0.06287901 x rejected\n",
      "pathway  145 > sig: 0.03412853 \n",
      "pathway  146 > sig: 0.08042789 \n",
      "pathway  146  k= 18 ( 18 ) wj= 3 >new sig: 0.07621603 x rejected\n"
     ]
    },
    {
     "name": "stderr",
     "output_type": "stream",
     "text": [
      "Warning message in stats::smooth.spline(lambda, xj, ..., df = df, keep.data = FALSE):\n",
      "\"smoothing parameter value too large\n",
      "setting df = 1  __use with care!__\"Warning message in stats::smooth.spline(lambda, xj, ..., df = df, keep.data = FALSE):\n",
      "\"smoothing parameter value too large\n",
      "setting df = 1  __use with care!__\"Warning message in stats::smooth.spline(lambda, xj, ..., df = df, keep.data = FALSE):\n",
      "\"smoothing parameter value too large\n",
      "setting df = 1  __use with care!__\"Warning message in stats::smooth.spline(lambda, xj, ..., df = df, keep.data = FALSE):\n",
      "\"smoothing parameter value too large\n",
      "setting df = 1  __use with care!__\"Warning message in stats::smooth.spline(lambda, xj, ..., df = df, keep.data = FALSE):\n",
      "\"smoothing parameter value too large\n",
      "setting df = 1  __use with care!__\"Warning message in stats::smooth.spline(lambda, xj, ..., df = df, keep.data = FALSE):\n",
      "\"smoothing parameter value too large\n",
      "setting df = 1  __use with care!__\"Warning message in stats::smooth.spline(lambda, xj, ..., df = df, keep.data = FALSE):\n",
      "\"smoothing parameter value too large\n",
      "setting df = 1  __use with care!__\"Warning message in stats::smooth.spline(lambda, xj, ..., df = df, keep.data = FALSE):\n",
      "\"smoothing parameter value too large\n",
      "setting df = 1  __use with care!__\"Warning message in stats::smooth.spline(lambda, xj, ..., df = df, keep.data = FALSE):\n",
      "\"smoothing parameter value too large\n",
      "setting df = 1  __use with care!__\"Warning message in stats::smooth.spline(lambda, xj, ..., df = df, keep.data = FALSE):\n",
      "\"smoothing parameter value too large\n",
      "setting df = 1  __use with care!__\"Warning message in stats::smooth.spline(lambda, xj, ..., df = df, keep.data = FALSE):\n",
      "\"smoothing parameter value too large\n",
      "setting df = 1  __use with care!__\"Warning message in stats::smooth.spline(lambda, xj, ..., df = df, keep.data = FALSE):\n",
      "\"smoothing parameter value too large\n",
      "setting df = 1  __use with care!__\"Warning message in stats::smooth.spline(lambda, xj, ..., df = df, keep.data = FALSE):\n",
      "\"smoothing parameter value too large\n",
      "setting df = 1  __use with care!__\""
     ]
    },
    {
     "name": "stdout",
     "output_type": "stream",
     "text": [
      "pathway  147 > sig: 0.07707464 \n",
      "pathway  147  k= 13 ( 13 ) wj= 1 >new sig: 0.0601823 | accepted!\n",
      "pathway  147  k= 12 ( 12 ) wj= 5 >new sig: 0.04066995 | accepted!\n",
      "pathway  148 > sig: 0.06372242 \n",
      "pathway  148  k= 8 ( 8 ) wj= 1 >new sig: 0.03719238 | accepted!\n",
      "pathway  149 > sig: 0.05227208 \n",
      "pathway  150 > sig: 0.02881091 \n",
      "pathway  151 > sig: 0.03790927 \n",
      "pathway  152 > sig: 0.02482383 \n",
      "pathway  153 > sig: 0.05107205 \n",
      "pathway  153  k= 35 ( 35 ) wj= 3 >new sig: 0.03783816 | accepted!\n",
      "pathway  154 > sig: 0.03553811 \n",
      "pathway  155 > sig: 0.06356571 \n",
      "pathway  155  k= 14 ( 14 ) wj= 4 >new sig: 0.06076549 x rejected\n",
      "pathway  156 > sig: 0.05739795 \n",
      "pathway  156  k= 35 ( 35 ) wj= 5 >new sig: 0.04917131 x rejected\n",
      "pathway  157 > sig: 0.02232897 \n",
      "pathway  158 > sig: 0.0450455 \n",
      "pathway  159 > sig: 0.07359083 \n",
      "pathway  159  k= 17 ( 17 ) wj= 5 >new sig: 0.06105049 | accepted!\n",
      "pathway  159  k= 16 ( 16 ) wj= 4 >new sig: 0.05869665 x rejected\n",
      "pathway  160 > sig: 0.0946609 \n",
      "pathway  160  k= 13 ( 13 ) wj= 1 >new sig: 0.06128551 | accepted!\n",
      "pathway  160  k= 12 ( 12 ) wj= 3 >new sig: 0.04903437 | accepted!\n",
      "pathway  161 > sig: 0.07406984 \n",
      "pathway  161  k= 15 ( 15 ) wj= 2 >new sig: 0.0519404 | accepted!\n",
      "pathway  161  k= 14 ( 14 ) wj= 3 >new sig: 0.04135526 | accepted!\n",
      "pathway  162 > sig: 0.03031046 \n",
      "pathway  163 > sig: 0.09219872 \n",
      "pathway  163  k= 18 ( 18 ) wj= 1 >new sig: 0.07048532 | accepted!\n",
      "pathway  163  k= 17 ( 17 ) wj= 4 >new sig: 0.06681141 x rejected\n",
      "pathway  164 > sig: 0.03832792 \n",
      "pathway  165 > sig: 0.07089719 \n",
      "pathway  165  k= 19 ( 19 ) wj= 1 >new sig: 0.06334724 x rejected\n"
     ]
    },
    {
     "name": "stderr",
     "output_type": "stream",
     "text": [
      "Warning message in stats::smooth.spline(lambda, xj, ..., df = df, keep.data = FALSE):\n",
      "\"smoothing parameter value too large\n",
      "setting df = 1  __use with care!__\"Warning message in stats::smooth.spline(lambda, xj, ..., df = df, keep.data = FALSE):\n",
      "\"smoothing parameter value too large\n",
      "setting df = 1  __use with care!__\"Warning message in stats::smooth.spline(lambda, xj, ..., df = df, keep.data = FALSE):\n",
      "\"smoothing parameter value too large\n",
      "setting df = 1  __use with care!__\"Warning message in stats::smooth.spline(lambda, xj, ..., df = df, keep.data = FALSE):\n",
      "\"smoothing parameter value too large\n",
      "setting df = 1  __use with care!__\"Warning message in stats::smooth.spline(lambda, xj, ..., df = df, keep.data = FALSE):\n",
      "\"smoothing parameter value too large\n",
      "setting df = 1  __use with care!__\"Warning message in stats::smooth.spline(lambda, xj, ..., df = df, keep.data = FALSE):\n",
      "\"smoothing parameter value too large\n",
      "setting df = 1  __use with care!__\"Warning message in stats::smooth.spline(lambda, xj, ..., df = df, keep.data = FALSE):\n",
      "\"smoothing parameter value too large\n",
      "setting df = 1  __use with care!__\"Warning message in stats::smooth.spline(lambda, xj, ..., df = df, keep.data = FALSE):\n",
      "\"smoothing parameter value too large\n",
      "setting df = 1  __use with care!__\"Warning message in stats::smooth.spline(lambda, xj, ..., df = df, keep.data = FALSE):\n",
      "\"smoothing parameter value too large\n",
      "setting df = 1  __use with care!__\"Warning message in stats::smooth.spline(lambda, xj, ..., df = df, keep.data = FALSE):\n",
      "\"smoothing parameter value too large\n",
      "setting df = 1  __use with care!__\"Warning message in stats::smooth.spline(lambda, xj, ..., df = df, keep.data = FALSE):\n",
      "\"smoothing parameter value too large\n",
      "setting df = 1  __use with care!__\"Warning message in stats::smooth.spline(lambda, xj, ..., df = df, keep.data = FALSE):\n",
      "\"smoothing parameter value too large\n",
      "setting df = 1  __use with care!__\"Warning message in stats::smooth.spline(lambda, xj, ..., df = df, keep.data = FALSE):\n",
      "\"smoothing parameter value too large\n",
      "setting df = 1  __use with care!__\"Warning message in stats::smooth.spline(lambda, xj, ..., df = df, keep.data = FALSE):\n",
      "\"smoothing parameter value too large\n",
      "setting df = 1  __use with care!__\"Warning message in stats::smooth.spline(lambda, xj, ..., df = df, keep.data = FALSE):\n",
      "\"smoothing parameter value too large\n",
      "setting df = 1  __use with care!__\"Warning message in stats::smooth.spline(lambda, xj, ..., df = df, keep.data = FALSE):\n",
      "\"smoothing parameter value too large\n",
      "setting df = 1  __use with care!__\"Warning message in stats::smooth.spline(lambda, xj, ..., df = df, keep.data = FALSE):\n",
      "\"smoothing parameter value too large\n",
      "setting df = 1  __use with care!__\""
     ]
    },
    {
     "name": "stdout",
     "output_type": "stream",
     "text": [
      "pathway  166 > sig: 0.05983651 \n",
      "pathway  166  k= 17 ( 17 ) wj= 3 >new sig: 0.05457938 x rejected\n",
      "pathway  167 > sig: 0.04778142 \n",
      "pathway  168 > sig: 0.09033138 \n",
      "pathway  168  k= 24 ( 24 ) wj= 3 >new sig: 0.05898538 | accepted!\n",
      "pathway  168  k= 23 ( 23 ) wj= 1 >new sig: 0.04113764 | accepted!\n",
      "pathway  169 > sig: 0.06412512 \n",
      "pathway  169  k= 8 ( 8 ) wj= 4 >new sig: 0.04662147 | accepted!\n",
      "pathway  170 > sig: 0.0322878 \n",
      "pathway  171 > sig: 0.09350054 \n",
      "pathway  171  k= 19 ( 19 ) wj= 2 >new sig: 0.08551184 x rejected\n",
      "pathway  172 > sig: 0.05346317 \n",
      "pathway  172  k= 13 ( 13 ) wj= 3 >new sig: 0.05058479 x rejected\n",
      "pathway  173 > sig: 0.07204911 \n",
      "pathway  173  k= 21 ( 21 ) wj= 2 >new sig: 0.06643254 x rejected\n",
      "pathway  174 > sig: 0.0849949 \n",
      "pathway  174  k= 17 ( 17 ) wj= 1 >new sig: 0.06946255 | accepted!\n",
      "pathway  174  k= 16 ( 16 ) wj= 3 >new sig: 0.05622882 | accepted!\n",
      "pathway  174  k= 15 ( 15 ) wj= 5 >new sig: 0.0558386 x rejected\n",
      "pathway  175 > sig: 0.06094837 \n",
      "pathway  175  k= 22 ( 22 ) wj= 1 >new sig: 0.04455103 | accepted!\n",
      "pathway  176 > sig: 0.07541875 \n",
      "pathway  176  k= 16 ( 16 ) wj= 1 >new sig: 0.07006152 x rejected\n",
      "pathway  177 > sig: 0.02598248 \n",
      "pathway  178 > sig: 0.05273994 \n",
      "pathway  178  k= 6 ( 6 ) wj= 5 >new sig: 0.04506441 x rejected\n",
      "pathway  179 > sig: 0.08759689 \n",
      "pathway  179  k= 15 ( 15 ) wj= 2 >new sig: 0.03947235 | accepted!\n",
      "pathway  180 > sig: 0.04555473 \n",
      "pathway  181 > sig: 0.0637575 \n",
      "pathway  181  k= 6 ( 6 ) wj= 4 >new sig: 0.06579568 x rejected\n",
      "pathway  182 > sig: 0.06216361 \n",
      "pathway  182  k= 6 ( 6 ) wj= 4 >new sig: 0.04606945 | accepted!\n",
      "pathway  183 > sig: 0.04541644 \n",
      "pathway  184 > sig: 0.04463119 \n",
      "pathway  185 > sig: 0.1026289 \n",
      "pathway  185  k= 20 ( 20 ) wj= 3 >new sig: 0.09629922 x rejected\n",
      "pathway  186 > sig: 0.102696 \n",
      "pathway  186  k= 13 ( 13 ) wj= 1 >new sig: 0.07523919 | accepted!\n",
      "pathway  186  k= 12 ( 12 ) wj= 1 >new sig: 0.03771498 | accepted!\n",
      "186 pathways processed with start= by ranks \n"
     ]
    }
   ],
   "source": [
    "###results of each dataset\n",
    "result.pathifier_GSE10245 = applied_pathifier_method(pathifier_input_GSE10245, PATHWAYS)"
   ]
  },
  {
   "cell_type": "code",
   "execution_count": 117,
   "metadata": {},
   "outputs": [
    {
     "name": "stdout",
     "output_type": "stream",
     "text": [
      "robust_score_bydist. min_exp= 13.8385 , min_std= 36.61653 \n"
     ]
    },
    {
     "ename": "ERROR",
     "evalue": "Error in quantify_pathways_deregulation(pathifier_input$data, pathifier_input$allgenes, : invalid dimentions\n",
     "output_type": "error",
     "traceback": [
      "Error in quantify_pathways_deregulation(pathifier_input$data, pathifier_input$allgenes, : invalid dimentions\nTraceback:\n",
      "1. applied_pathifier_method(pathifier_input_GSE11906, PATHWAYS)",
      "2. quantify_pathways_deregulation(pathifier_input$data, pathifier_input$allgenes, \n .     PATHWAYS$gs, PATHWAYS$pathwaynames, pathifier_input$normals, \n .     maximize_stability = T, min_std = pathifier_input$min_std, \n .     min_exp = pathifier_input$min_exp)   # at line 2-10 of file <text>",
      "3. stop(\"invalid dimentions\")"
     ]
    }
   ],
   "source": [
    "### this takes a lot of time and have some warnings\n",
    "result.pathifier_GSE11906 = applied_pathifier_method(pathifier_input_GSE11906, PATHWAYS)\n",
    "result.pathifier_GSE18842 = applied_pathifier_method(pathifier_input_GSE18842, PATHWAYS)\n",
    "result.pathifier_GSE35571 = applied_pathifier_method(pathifier_input_GSE35571, PATHWAYS)\n",
    "result.pathifier_GSE42057 = applied_pathifier_method(pathifier_input_GSE42057, PATHWAYS)\n",
    "result.pathifier_GSE50834 = applied_pathifier_method(pathifier_input_GSE50834, PATHWAYS)\n",
    "result.pathifier_GSE52819 = applied_pathifier_method(pathifier_input_GSE52819, PATHWAYS)\n",
    "result.pathifier_GSE67472 = applied_pathifier_method(pathifier_input_GSE67472, PATHWAYS)"
   ]
  },
  {
   "cell_type": "code",
   "execution_count": null,
   "metadata": {},
   "outputs": [],
   "source": [
    "# Save image into working directory\n",
    "save.image(\"E:/PIGSAR_Rdata/Data_pathifier.RData\")"
   ]
  },
  {
   "cell_type": "markdown",
   "metadata": {},
   "source": [
    "## 3.3 individPath "
   ]
  },
  {
   "cell_type": "code",
   "execution_count": null,
   "metadata": {},
   "outputs": [],
   "source": [
    "if (!requireNamespace(\"BiocManager\", quietly = TRUE))\n",
    "  install.packages(\"BiocManager\")\n",
    "\n",
    "BiocManager::install(\"individPath\")\n",
    "library(individPath)"
   ]
  },
  {
   "cell_type": "code",
   "execution_count": null,
   "metadata": {},
   "outputs": [],
   "source": [
    "### example\n",
    "Con = GSE10245_setentrez[,GSE10245_pdata[,6]==1]\n",
    "Case = GSE10245_setentrez[,GSE10245_pdata[,6]==0]\n",
    "PathwayFile = \"~/file.txt\"\n",
    "cutoff = 0.99"
   ]
  },
  {
   "cell_type": "code",
   "execution_count": null,
   "metadata": {},
   "outputs": [],
   "source": [
    "source(\"applied_individPath.R\")"
   ]
  },
  {
   "cell_type": "code",
   "execution_count": null,
   "metadata": {},
   "outputs": [],
   "source": [
    "result.individ_GSE10245 = applied_individPath_method(GSE10245_ControlDatafile, GSE10245_CaseDatafile, PathwayFile, cutoff)\n",
    "result.individ_GSE11906 = applied_individPath_method(GSE11906_ControlDatafile, GSE11906_CaseDatafile, PathwayFile, cutoff)\n",
    "result.individ_GSE18842 = applied_individPath_method(GSE18842_ControlDatafile, GSE18842_CaseDatafile, PathwayFile, cutoff)\n",
    "result.individ_GSE35571 = applied_individPath_method(GSE35571_ControlDatafile, GSE35571_CaseDatafile, PathwayFile, cutoff)\n",
    "result.individ_GSE42057 = applied_individPath_method(GSE42057_ControlDatafile, GSE42057_CaseDatafile, PathwayFile, cutoff)\n",
    "result.individ_GSE50834 = applied_individPath_method(GSE50834_ControlDatafile, GSE50834_CaseDatafile, PathwayFile, cutoff)\n",
    "result.individ_GSE52819 = applied_individPath_method(GSE52819_ControlDatafile, GSE52819_CaseDatafile, PathwayFile, cutoff)\n",
    "result.individ_GSE67472 = applied_individPath_method(GSE67472_ControlDatafile, GSE67472_CaseDatafile, PathwayFile, cutoff)"
   ]
  },
  {
   "cell_type": "code",
   "execution_count": null,
   "metadata": {},
   "outputs": [],
   "source": [
    "# Save image into working directory\n",
    "save.image(\"E:/PIGSAR_Rdata/Data_individPath.RData\")"
   ]
  },
  {
   "cell_type": "markdown",
   "metadata": {},
   "source": [
    "## 3.4 iPAS"
   ]
  },
  {
   "cell_type": "code",
   "execution_count": null,
   "metadata": {},
   "outputs": [],
   "source": [
    "if (!requireNamespace(\"BiocManager\", quietly = TRUE))\n",
    "  install.packages(\"BiocManager\")\n",
    "\n",
    "BiocManager::install(\"iPAS\")\n",
    "library(iPAS)"
   ]
  },
  {
   "cell_type": "code",
   "execution_count": null,
   "metadata": {},
   "outputs": [],
   "source": []
  },
  {
   "cell_type": "code",
   "execution_count": null,
   "metadata": {},
   "outputs": [],
   "source": []
  },
  {
   "cell_type": "code",
   "execution_count": null,
   "metadata": {},
   "outputs": [],
   "source": [
    "# Save image into working directory\n",
    "save.image(\"E:/PIGSAR_Rdata/Data_iPAS.RData\")"
   ]
  },
  {
   "cell_type": "markdown",
   "metadata": {},
   "source": [
    "# 4. Results\n",
    "\n",
    "## 4.1 gsva"
   ]
  },
  {
   "cell_type": "code",
   "execution_count": null,
   "metadata": {},
   "outputs": [],
   "source": [
    "###results of each dataset we've got before\n",
    "result.gsva_GSE10245 \n",
    "result.gsva_GSE11906\n",
    "result.gsva_GSE18842\n",
    "result.gsva_GSE35571 \n",
    "result.gsva_GSE42057 \n",
    "result.gsva_GSE50834 \n",
    "result.gsva_GSE52819 \n",
    "result.gsva_GSE67472 "
   ]
  },
  {
   "cell_type": "markdown",
   "metadata": {},
   "source": [
    "### 4.1.1 combine datasets due to the disease"
   ]
  },
  {
   "cell_type": "code",
   "execution_count": null,
   "metadata": {},
   "outputs": [],
   "source": [
    "cluster_H00014 = list(\"GSE10245\" = result.gsva_GSE10245, \"GSE18842\" = result.gsva_GSE18842)\n",
    "cluster_H00079 = list(\"GSE35571\" = result.gsva_GSE35571, \"GSE67472\" = result.gsva_GSE67472)\n",
    "cluster_H00342 = list(\"GSE50834\" = result.gsva_GSE50834, \"GSE52819\" = result.gsva_GSE52819)\n",
    "cluster_H01714 = list(\"GSE11906\" = result.gsva_GSE11906, \"GSE42057\" = result.gsva_GSE42057) "
   ]
  },
  {
   "cell_type": "markdown",
   "metadata": {},
   "source": [
    "### 4.1.2 Adjusting the structure of the result"
   ]
  },
  {
   "cell_type": "code",
   "execution_count": null,
   "metadata": {},
   "outputs": [],
   "source": [
    "### adjusting the structure of the result\n",
    "source(\"adjust_result_to_newstr.R\")"
   ]
  },
  {
   "cell_type": "code",
   "execution_count": null,
   "metadata": {},
   "outputs": [],
   "source": [
    "try_H00014 = adjust_result_to_newstr(cluster_H00014)\n",
    "try_H00342 = adjust_result_to_newstr(cluster_H00342)\n",
    "try_H01103 = adjust_result_to_newstr(cluster_H01103)\n",
    "try_H00079 = adjust_result_to_newstr(cluster_H00079)\n",
    "try_H01714 = adjust_result_to_newstr(cluster_H01714)"
   ]
  },
  {
   "cell_type": "markdown",
   "metadata": {},
   "source": [
    "### 4.1.3 Clustering via heatmap_\"GSVA\""
   ]
  },
  {
   "cell_type": "code",
   "execution_count": null,
   "metadata": {},
   "outputs": [],
   "source": [
    "### Install and library packages\n",
    "if (!requireNamespace(\"BiocManager\", quietly = TRUE))\n",
    "       install.packages(\"BiocManager\")\n",
    "\n",
    "BiocManager::install(\"pheatmap\")\n",
    "BiocManager::install(\"RColorBrewer\")\n",
    "library(pheatmap)\n",
    "library(RColorBrewer)"
   ]
  },
  {
   "cell_type": "code",
   "execution_count": null,
   "metadata": {},
   "outputs": [],
   "source": [
    "source(\"heatmap_cluster_gsva.R\")"
   ]
  },
  {
   "cell_type": "code",
   "execution_count": null,
   "metadata": {},
   "outputs": [],
   "source": [
    "p_H00014 = list()\n",
    "p_H00342 = list()\n",
    "p_H00079 = list()\n",
    "p_H01714 = list()\n",
    "p_H00014_try = lapply(try_H00014, heatmap_cluster_gsva)\n",
    "p_H00342_try = lapply(try_H00342, heatmap_cluster_gsva)\n",
    "p_H00079_try = lapply(try_H00079, heatmap_cluster_gsva)\n",
    "p_H01714_try = lapply(try_H01714, heatmap_cluster_gsva)"
   ]
  },
  {
   "cell_type": "code",
   "execution_count": null,
   "metadata": {},
   "outputs": [],
   "source": [
    "p_H00014$result.ssgsea = get_neworder(try_H00014$result.ssgsea)\n",
    "p_H00014$result.gsva = get_neworder(try_H00014$result.gsva)\n",
    "p_H00014$result.plage = get_neworder(try_H00014$result.plage)\n",
    "p_H00014$result.zscore = get_neworder(try_H00014$result.zscore)\n",
    "\n",
    "p_H00342$result.ssgsea = get_neworder(try_H00342$result.ssgsea)\n",
    "p_H00342$result.gsva = get_neworder(try_H00342$result.gsva)\n",
    "p_H00342$result.plage = get_neworder(try_H00342$result.plage)\n",
    "p_H00342$result.zscore = get_neworder(try_H00342$result.zscore)\n",
    "\n",
    "p_H00079$result.ssgsea = get_neworder(try_H00079$result.ssgsea)\n",
    "p_H00079$result.gsva = get_neworder(try_H00079$result.gsva)\n",
    "p_H00079$result.plage = get_neworder(try_H00079$result.plage)\n",
    "p_H00079$result.zscore = get_neworder(try_H00079$result.zscore)\n",
    "\n",
    "p_H01714$result.ssgsea = get_neworder(try_H01714$result.ssgsea)\n",
    "p_H01714$result.gsva = get_neworder(try_H01714$result.gsva)\n",
    "p_H01714$result.plage = get_neworder(try_H01714$result.plage)\n",
    "p_H01714$result.zscore = get_neworder(try_H01714$result.zscore)"
   ]
  },
  {
   "cell_type": "code",
   "execution_count": null,
   "metadata": {},
   "outputs": [],
   "source": []
  },
  {
   "cell_type": "markdown",
   "metadata": {},
   "source": [
    "### SP , NSP"
   ]
  },
  {
   "cell_type": "code",
   "execution_count": null,
   "metadata": {},
   "outputs": [],
   "source": [
    "#### choose significant pathways of each cluster\n",
    "####p_H00342$result.ssgsea\n",
    "#######methods:\n",
    "#######value <= 0.05 of each sample\n",
    "####1. subset \n",
    "p_H00014.n = list()\n",
    "p_H00014.n$result.ssgsea_sample = p_H00014$result.ssgsea[,-1]\n",
    "p_H00014.n$result.gsva_sample = p_H00014$result.gsva[,-1]\n",
    "p_H00014.n$result.plage_sample = p_H00014$result.plage[,-1]\n",
    "p_H00014.n$result.zscore_sample = p_H00014$result.zscore[,-1]\n",
    "H00014_cluster_ssgsea = list(\"cluster1\" = p_H00014.n$result.ssgsea_sample[, 1:29],\n",
    "                             \"cluster2\" = p_H00014.n$result.ssgsea_sample[, 30:44],\n",
    "                             \"cluster3\" = p_H00014.n$result.ssgsea_sample[, 45:60],\n",
    "                             \"cluster4\" = p_H00014.n$result.ssgsea_sample[, 61:102],\n",
    "                             \"cluster5\" = p_H00014.n$result.ssgsea_sample[, 103:124],\n",
    "                             \"cluster6\" = p_H00014.n$result.ssgsea_sample[, 125:146])\n",
    "H00014_cluster_gsva = list(\"cluster1\" = p_H00014.n$result.gsva_sample[, 1:20],\n",
    "                           \"cluster2\" = p_H00014.n$result.gsva_sample[, 21:33],\n",
    "                           \"cluster3\" = p_H00014.n$result.gsva_sample[, 34:44],\n",
    "                           \"cluster4\" = p_H00014.n$result.gsva_sample[, 45:109],\n",
    "                           \"cluster5\" = p_H00014.n$result.gsva_sample[, 110:131],\n",
    "                           \"cluster6\" = p_H00014.n$result.gsva_sample[, 132:146])\n",
    "H00014_cluster_plage = list(\"cluster1\" = p_H00014.n$result.plage_sample[, 1:58],\n",
    "                            \"cluster2\" = p_H00014.n$result.plage_sample[, 59:83],\n",
    "                            \"cluster3\" = p_H00014.n$result.plage_sample[, 84:103],\n",
    "                            \"cluster4\" = p_H00014.n$result.plage_sample[, 104:117],\n",
    "                            \"cluster5\" = p_H00014.n$result.plage_sample[, 118:127],\n",
    "                            \"cluster6\" = p_H00014.n$result.plage_sample[, 128:146])\n",
    "H00014_cluster_zscore = list(\"cluster1\" = p_H00014.n$result.zscore_sample[, 1:20],\n",
    "                             \"cluster2\" = p_H00014.n$result.zscore_sample[, 21:41],\n",
    "                             \"cluster3\" = p_H00014.n$result.zscore_sample[, 42],\n",
    "                             \"cluster4\" = p_H00014.n$result.zscore_sample[, 43:61],\n",
    "                             \"cluster5\" = p_H00014.n$result.zscore_sample[, 62:69],\n",
    "                             \"cluster6\" = p_H00014.n$result.zscore_sample[, 70:146])\n",
    "SP_H00014 = list()\n",
    "SP_H00014$ssgsea$cluster1 = subset(H00014_cluster_ssgsea[[1]], H00014_cluster_ssgsea[[1]] <= 0.05)\n",
    "SP_H00014$ssgsea$cluster1 = na.omit(SP_H00014$ssgsea$cluster1)\n",
    "SP_H00014$ssgsea$cluster1 = as.data.frame(SP_H00014$ssgsea$cluster1)\n",
    "SP_H00014$ssgsea$cluster2 = subset(H00014_cluster_ssgsea[[2]], H00014_cluster_ssgsea[[2]] <= 0.05)\n",
    "SP_H00014$ssgsea$cluster2 = na.omit(SP_H00014$ssgsea$cluster2)\n",
    "SP_H00014$ssgsea$cluster2 = as.data.frame(SP_H00014$ssgsea$cluster2)\n",
    "SP_H00014$ssgsea$cluster3 = subset(H00014_cluster_ssgsea[[3]], H00014_cluster_ssgsea[[3]] <= 0.05)\n",
    "SP_H00014$ssgsea$cluster3 = na.omit(SP_H00014$ssgsea$cluster3)\n",
    "SP_H00014$ssgsea$cluster3 = as.data.frame(SP_H00014$ssgsea$cluster3)\n",
    "SP_H00014$ssgsea$cluster4 = subset(H00014_cluster_ssgsea[[4]], H00014_cluster_ssgsea[[4]] <= 0.05)\n",
    "SP_H00014$ssgsea$cluster4 = na.omit(SP_H00014$ssgsea$cluster4)\n",
    "SP_H00014$ssgsea$cluster4 = as.data.frame(SP_H00014$ssgsea$cluster4)\n",
    "SP_H00014$ssgsea$cluster5 = subset(H00014_cluster_ssgsea[[5]], H00014_cluster_ssgsea[[5]] <= 0.05)\n",
    "SP_H00014$ssgsea$cluster5 = na.omit(SP_H00014$ssgsea$cluster5)\n",
    "SP_H00014$ssgsea$cluster5 = as.data.frame(SP_H00014$ssgsea$cluster5)\n",
    "SP_H00014$ssgsea$cluster6 = subset(H00014_cluster_ssgsea[[6]], H00014_cluster_ssgsea[[6]] <= 0.05)\n",
    "SP_H00014$ssgsea$cluster6 = na.omit(SP_H00014$ssgsea$cluster6)\n",
    "SP_H00014$ssgsea$cluster6 = as.data.frame(SP_H00014$ssgsea$cluster6)\n",
    "\n",
    "\n",
    "##################################################\n",
    "###nonsignificant pathways(p>0.05)\n",
    "NSP_H00014 = list()\n",
    "NSP_H00014$ssgsea$cluster1 = subset(H00014_cluster_ssgsea[[1]], H00014_cluster_ssgsea[[1]] > 0.05)\n",
    "NSP_H00014$ssgsea$cluster1 = na.omit(NSP_H00014$ssgsea$cluster1)\n",
    "NSP_H00014$ssgsea$cluster1 = as.data.frame(NSP_H00014$ssgsea$cluster1)\n",
    "NSP_H00014$ssgsea$cluster2 = subset(H00014_cluster_ssgsea[[2]], H00014_cluster_ssgsea[[2]] > 0.05)\n",
    "NSP_H00014$ssgsea$cluster2 = na.omit(NSP_H00014$ssgsea$cluster2)\n",
    "NSP_H00014$ssgsea$cluster2 = as.data.frame(NSP_H00014$ssgsea$cluster2)\n",
    "NSP_H00014$ssgsea$cluster3 = subset(H00014_cluster_ssgsea[[3]], H00014_cluster_ssgsea[[3]] > 0.05)\n",
    "NSP_H00014$ssgsea$cluster3 = na.omit(NSP_H00014$ssgsea$cluster3)\n",
    "NSP_H00014$ssgsea$cluster3 = as.data.frame(NSP_H00014$ssgsea$cluster3)\n",
    "NSP_H00014$ssgsea$cluster4 = subset(H00014_cluster_ssgsea[[4]], H00014_cluster_ssgsea[[4]] > 0.05)\n",
    "NSP_H00014$ssgsea$cluster4 = na.omit(NSP_H00014$ssgsea$cluster4)\n",
    "NSP_H00014$ssgsea$cluster4 = as.data.frame(NSP_H00014$ssgsea$cluster4)\n",
    "NSP_H00014$ssgsea$cluster5 = subset(H00014_cluster_ssgsea[[5]], H00014_cluster_ssgsea[[5]] > 0.05)\n",
    "NSP_H00014$ssgsea$cluster5 = na.omit(NSP_H00014$ssgsea$cluster5)\n",
    "NSP_H00014$ssgsea$cluster5 = as.data.frame(NSP_H00014$ssgsea$cluster5)\n",
    "NSP_H00014$ssgsea$cluster6 = subset(H00014_cluster_ssgsea[[6]], H00014_cluster_ssgsea[[6]] > 0.05)\n",
    "NSP_H00014$ssgsea$cluster6 = na.omit(NSP_H00014$ssgsea$cluster6)\n",
    "NSP_H00014$ssgsea$cluster6 = as.data.frame(NSP_H00014$ssgsea$cluster6)"
   ]
  },
  {
   "cell_type": "markdown",
   "metadata": {},
   "source": [
    "### get_tp.tn.fp.fn"
   ]
  },
  {
   "cell_type": "code",
   "execution_count": null,
   "metadata": {},
   "outputs": [],
   "source": [
    "#### select significant pathways of each cluster at first\n",
    "##################################\n",
    "#### get TP and FP\n",
    "TP <- list()\n",
    "TN <- list()\n",
    "FP <- list()\n",
    "FN <- list()\n",
    "\n",
    "source(\"get_tp.fp.R\")\n",
    "source(\"get_tn.fn.R\")"
   ]
  },
  {
   "cell_type": "markdown",
   "metadata": {},
   "source": [
    "# 5. specificity, sensitivity "
   ]
  },
  {
   "cell_type": "code",
   "execution_count": null,
   "metadata": {},
   "outputs": [],
   "source": [
    "#############################################\n",
    "###sensitivity and specificity\n",
    "#############################################\n",
    "#####sensitivity\n",
    "setwd(\"~/ss_results\")\n",
    "sensitivity_result = read.csv(\"sensitivity_results.csv\", header = TRUE, row.names = 1)\n",
    "\n",
    "library(tidyverse)\n",
    "###gather\n",
    "sensitivity_result2 = gather(sensitivity_result, key = \"Method\", value = data,\n",
    "                             ssgsea, gsva, plage, zscore)\n",
    "sensitivity_result2\n",
    "\n",
    "\n",
    "library(ggplot2)\n",
    "ggplot(sensitivity_result2, aes(Method,data, fill= diseaseID))+geom_boxplot()\n",
    "\n",
    "#############################################\n",
    "#####specificity\n",
    "specificity_result = read.csv(\"specificity_results.csv\", header = TRUE, row.names = 1)\n",
    "\n",
    "###gather\n",
    "specificity_result2 = gather(specificity_result, key = \"Method\", value = data,\n",
    "                             ssgsea, gsva, plage, zscore)\n",
    "specificity_result2\n",
    "\n",
    "###simple plot\n",
    "plot2 = ggplot(specificity_result2, aes(Method,data, fill= diseaseID))+ geom_boxplot()\n"
   ]
  },
  {
   "cell_type": "code",
   "execution_count": null,
   "metadata": {},
   "outputs": [],
   "source": []
  },
  {
   "cell_type": "code",
   "execution_count": null,
   "metadata": {},
   "outputs": [],
   "source": []
  },
  {
   "cell_type": "code",
   "execution_count": null,
   "metadata": {},
   "outputs": [],
   "source": []
  }
 ],
 "metadata": {
  "kernelspec": {
   "display_name": "R 3.6.1",
   "language": "R",
   "name": "ir361"
  },
  "language_info": {
   "codemirror_mode": "r",
   "file_extension": ".r",
   "mimetype": "text/x-r-source",
   "name": "R",
   "pygments_lexer": "r",
   "version": "3.6.1"
  }
 },
 "nbformat": 4,
 "nbformat_minor": 2
}
